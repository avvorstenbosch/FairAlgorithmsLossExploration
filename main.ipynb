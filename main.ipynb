{
 "cells": [
  {
   "cell_type": "markdown",
   "id": "attached-attribute",
   "metadata": {},
   "source": [
    "# AI fairness by using modified loss functions"
   ]
  },
  {
   "cell_type": "markdown",
   "id": "professional-mainland",
   "metadata": {},
   "source": [
    "This project is based on work as discussed in a blogpost by [**GoDataDriven**](https://godatadriven.com/blog/towards-fairness-in-ml-with-adversarial-networks/). They used an adversarial architecture to guide their classifier towards fairer predictions, by having the adversarial try and predict sensitive attributes using only the output of the classifier model. The simplicity of the adversarial networks led me to believe that an easier, and more flexible approach, would be to directly modify the loss function manually. The adversarial network in the blog post is essentialy a dynamic black-box addition the binary cross-entropy loss function. We try a different approach where we manually change the loss function. By manually adding terms to the loss function we can experiment with precisely which metric we want to implement into the loss function, and hopefully gives a more explainable approach.\n",
    "\n",
    "The code in this notebook is based on the code for the adversarial network fairness blogpost as shared on [**GoDataDriven Git**](https://github.com/equialgo/fairness-in-ml/blob/master/fairness-in-ml.ipynb)\n",
    "\n",
    "The Fairness metrics as implemented in this notebook are referenced from [**Pessach et al. 2020**](https://arxiv.org/pdf/2001.09784.pdf) "
   ]
  },
  {
   "cell_type": "markdown",
   "id": "fc439583",
   "metadata": {},
   "source": [
    "### *Conclusions*"
   ]
  },
  {
   "cell_type": "markdown",
   "id": "be4bcf5a",
   "metadata": {},
   "source": [
    "### General \n",
    "In general, fairness based additions to the loss function are not convex. Because of this their behaviour can change very dramatically with small changes in their scaling. The best performance is reached by taking weights from a pretrained network and using those as a best-estimate starting point for these unstable loss functions.\n",
    "\n",
    "Below we demonstrate some cases where our manual tweaking achieve results better than the results shown by Adversarial Fairness network. However, for an unbiased comparisson we would need to use an aditional validation which was not done.\n",
    "\n",
    "### Trade-off\n",
    "We observe a trade-off between different types of fairness. Per definition, if you are increasing the Disparate Impact Fairness you are decreasing the Equal Odds Fairness. Disparate impact equalizes the total positive rate without taking into account the actual positive rates in the classes being equalized. The True Positive Rates and False Positive Rates get affected differently per subclass.\n",
    "\n",
    "### Disparate impact\n",
    "We also notice that adding Disparate Impact or Demographic Parity to the loss function brings the positive rate to to a value inbetween the base rates of both classes, closer to the lowest rate than the highest. This means the false positives for the lower class are increased and the false negatives for the higher class are increased.\n",
    "\n",
    "### Equalized odds\n",
    "Meanwhile adding equal odds means that the TPR and FPR are equalized. In practice this added term to the loss function turns out to be even more unstable than Disparate Impact. Most of the time, it forces all prediction scores below the 0.5 boundary. This is a problem more often encountered where a NN chooses for the trivial solution at hand if allowed; TPR and FPR are nicely equalized when there are 0 positive predictions for any class. This is also a trivial solution for Disparate impact, so what makes it so that it doesn't happen there but does happen here is not clear to me.\n",
    "\n",
    "Equalized odds can also be optimized after training is completed, by finding itersection points in the ROC-curves. However, we cannot optimize this for two protected attributes at the same time. Thus we can only perform this optimization for a single protected class, making this less desirable.\n",
    "Using this method we do demonstrate that for a single class both fairness metrics can be optimized to high values: \n",
    "  \n",
    "*These values vary slightly per run*  \n",
    "  P-rule: 79% (baseline: 53%)  \n",
    "  EO-fairness: 1% (baseline: 9%)  \n",
    "  This does come at a cost however:  \n",
    "  AUC_ROC: 78% (baseline: 92%)  \n",
    "  Accuracy: 78% (baseline: 86%)  "
   ]
  },
  {
   "cell_type": "code",
   "execution_count": 1,
   "id": "106dac35",
   "metadata": {},
   "outputs": [
    {
     "data": {
      "text/plain": [
       "[PhysicalDevice(name='/physical_device:GPU:0', device_type='GPU')]"
      ]
     },
     "execution_count": 1,
     "metadata": {},
     "output_type": "execute_result"
    }
   ],
   "source": [
    "import tensorflow as tf\n",
    "tf.config.list_physical_devices('GPU') "
   ]
  },
  {
   "cell_type": "code",
   "execution_count": 2,
   "id": "2662483f",
   "metadata": {},
   "outputs": [],
   "source": [
    "from tensorflow.keras.layers import Input, Dense, Dropout\n",
    "from tensorflow.keras.models import Model"
   ]
  },
  {
   "cell_type": "code",
   "execution_count": 3,
   "id": "tamil-peace",
   "metadata": {},
   "outputs": [
    {
     "name": "stdout",
     "output_type": "stream",
     "text": [
      "sklearn: 0.24.1\n",
      "pandas: 1.2.3\n",
      "tensorflow: 2.4.1\n"
     ]
    }
   ],
   "source": [
    "# HIDE\n",
    "import pandas as pd\n",
    "import numpy as np\n",
    "np.random.seed(94)\n",
    "import matplotlib.pyplot as plt\n",
    "plt.style.use(\"seaborn-darkgrid\")\n",
    "import seaborn as sns\n",
    "from IPython import display\n",
    "%matplotlib inline\n",
    "\n",
    "import sklearn as sk\n",
    "from sklearn.model_selection import train_test_split\n",
    "from sklearn.preprocessing import StandardScaler\n",
    "from sklearn.metrics import accuracy_score, roc_auc_score, precision_score, recall_score, roc_curve\n",
    "from sklearn.utils.class_weight import compute_class_weight\n",
    "\n",
    "\n",
    "create_gif = False\n",
    "\n",
    "print(f\"sklearn: {sk.__version__}\")\n",
    "print(f\"pandas: {pd.__version__}\")\n",
    "print(f\"tensorflow: {tf.__version__}\")"
   ]
  },
  {
   "cell_type": "markdown",
   "id": "respected-measurement",
   "metadata": {},
   "source": [
    "# Baseline performance of a NN with binary cross-entropy loss\n",
    "First we measure the base performance on our loss, accuracy and fairness measures for off-the-shelf implementation of a classifier network"
   ]
  },
  {
   "cell_type": "markdown",
   "id": "stuck-literacy",
   "metadata": {},
   "source": [
    "## Loading and preprocessing of the data"
   ]
  },
  {
   "cell_type": "code",
   "execution_count": 4,
   "id": "complete-forth",
   "metadata": {},
   "outputs": [],
   "source": [
    "def load_UCI_data(path):\n",
    "    \"\"\"\n",
    "    Load the ADULT UCI dataset and split of the 2 sensitive attributes Z.\n",
    "    \n",
    "    Parameters\n",
    "    ----------\n",
    "    path - str\n",
    "        The path to the UCI DATA csv\n",
    "    \n",
    "    Returns\n",
    "    -------\n",
    "    X - Dataframe\n",
    "        The training attributes\n",
    "    y - Dataframe\n",
    "        The classification target\n",
    "    Z - Dataframe\n",
    "        The protected/sensitive attributes sex and race\n",
    "    \"\"\"\n",
    "    column_names = ['age', 'workclass', 'fnlwgt', 'education', 'education_num', \n",
    "                    'marital_status', 'occupation', 'relationship', 'race', 'sex', \n",
    "                    'capital_gain', 'capital_loss', 'hours_per_week', 'country', 'target']\n",
    "    input_data = (pd.read_csv(path, names=column_names, \n",
    "                              na_values=\"?\", sep=r'\\s*,\\s*', engine='python')\n",
    "                  .loc[lambda df: df['race'].isin(['White', 'Black'])])\n",
    "\n",
    "    # sensitive attributes; we identify 'race' and 'sex' as sensitive attributes\n",
    "    sensitive_attribs = ['race', 'sex']\n",
    "    Z = (input_data.loc[:, sensitive_attribs]\n",
    "         .assign(race=lambda df: (df['race'] == 'White').astype(int),\n",
    "                 sex=lambda df: (df['sex'] == 'Male').astype(int)))\n",
    "\n",
    "    # targets; 1 when someone makes over 50k , otherwise 0\n",
    "    y = (input_data['target'] == '>50K').astype(int)\n",
    "\n",
    "    # features; note that the 'target' and sentive attribute columns are dropped\n",
    "    X = (input_data\n",
    "         .drop(columns=['target', 'race', 'sex'])\n",
    "         .fillna('Unknown')\n",
    "         .pipe(pd.get_dummies, drop_first=True))\n",
    "    \n",
    "    print(f\"features X: {X.shape[0]} samples, {X.shape[1]} attributes\")\n",
    "    print(f\"targets y: {y.shape[0]} samples\")\n",
    "    print(f\"sensitives Z: {Z.shape[0]} samples, {Z.shape[1]} attributes\")\n",
    "    return X, y, Z"
   ]
  },
  {
   "cell_type": "code",
   "execution_count": 5,
   "id": "completed-laundry",
   "metadata": {},
   "outputs": [
    {
     "name": "stdout",
     "output_type": "stream",
     "text": [
      "features X: 30940 samples, 94 attributes\n",
      "targets y: 30940 samples\n",
      "sensitives Z: 30940 samples, 2 attributes\n"
     ]
    }
   ],
   "source": [
    "X, y, Z = load_UCI_data('adult.data')\n",
    "y = y.astype(np.float64)\n",
    "Z = Z.astype(np.float64)"
   ]
  },
  {
   "cell_type": "code",
   "execution_count": 6,
   "id": "genuine-brave",
   "metadata": {},
   "outputs": [],
   "source": [
    "X_train, X_test, y_train, y_test, Z_train, Z_test = train_test_split(X, y, Z, test_size=0.2, \n",
    "                                                                     stratify=y, random_state=94)\n",
    "\n",
    "# standardize the data\n",
    "scaler = StandardScaler().fit(X_train)\n",
    "scale_df = lambda df, scaler: pd.DataFrame(scaler.transform(df), columns=df.columns, index=df.index)\n",
    "X_train = X_train.pipe(scale_df, scaler) \n",
    "X_test = X_test.pipe(scale_df, scaler)"
   ]
  },
  {
   "cell_type": "code",
   "execution_count": 7,
   "id": "45195c6c",
   "metadata": {},
   "outputs": [
    {
     "name": "stdout",
     "output_type": "stream",
     "text": [
      "Distribution of the protected attributes\n",
      "race == 0: 10.0% -- 619 samples\n",
      "race == 1: 90.0% -- 5569 samples\n",
      "sex == 0: 34.1% -- 2112 samples\n",
      "sex == 1: 65.9% -- 4076 samples\n",
      "\n",
      "Notice that race is very skewed towards class 1\n",
      "\n",
      "Distribution of target=1 over the protected attributes\n",
      "race == 0: 5.2% -- 78 samples\n",
      "race == 1: 94.8% -- 1423 samples\n",
      "sex == 0: 13.7% -- 206 samples\n",
      "sex == 1: 86.3% -- 1295 samples\n",
      "\n",
      "Positive rates for the protected attributes\n",
      "race == 0: 12.6%\n",
      "race == 1: 25.6%\n",
      "sex == 0: 9.8%\n",
      "sex == 1: 31.8%\n"
     ]
    }
   ],
   "source": [
    "protected_attributes = [\"race\", \"sex\"]\n",
    "subclasses = [0,1]\n",
    "print(\"Distribution of the protected attributes\")\n",
    "for protected in protected_attributes:\n",
    "    for subclass in subclasses:\n",
    "        counts = len(Z_test[Z_test[protected]==subclass])\n",
    "        perc = counts/len(Z_test)*100\n",
    "        print(f\"{protected} == {subclass}: {perc:.1f}% -- {counts:.0f} samples\")\n",
    "print(\"\\nNotice that race is very skewed towards class 1\")\n",
    "\n",
    "print(\"\\nDistribution of target=1 over the protected attributes\")\n",
    "total_1 = y_test.sum()\n",
    "for protected in protected_attributes:\n",
    "    for subclass in subclasses:\n",
    "        counts = y_test[Z_test[protected]==subclass].sum()\n",
    "        perc = counts/total_1*100\n",
    "        print(f\"{protected} == {subclass}: {perc:.1f}% -- {counts:.0f} samples\")\n",
    "        \n",
    "print(\"\\nPositive rates for the protected attributes\")\n",
    "total_1 = y_test.sum()\n",
    "for protected in protected_attributes:\n",
    "    for subclass in subclasses:\n",
    "        size_subclass = len(Z_test[Z_test[protected]==subclass])\n",
    "        positives_subclass = y_test[Z_test[protected]==subclass].sum()\n",
    "        pr = positives_subclass/size_subclass*100\n",
    "        print(f\"{protected} == {subclass}: {pr:.1f}%\")"
   ]
  },
  {
   "cell_type": "markdown",
   "id": "latter-oriental",
   "metadata": {},
   "source": [
    "## Base NN-model training"
   ]
  },
  {
   "cell_type": "code",
   "execution_count": 8,
   "id": "portuguese-brazilian",
   "metadata": {},
   "outputs": [
    {
     "name": "stdout",
     "output_type": "stream",
     "text": [
      "Epoch 1/20\n",
      "774/774 [==============================] - 80s 1ms/step - loss: 0.4998\n",
      "Epoch 2/20\n",
      "774/774 [==============================] - 1s 1ms/step - loss: 0.3551\n",
      "Epoch 3/20\n",
      "774/774 [==============================] - 1s 1ms/step - loss: 0.3353\n",
      "Epoch 4/20\n",
      "774/774 [==============================] - 1s 1ms/step - loss: 0.3253\n",
      "Epoch 5/20\n",
      "774/774 [==============================] - 1s 1ms/step - loss: 0.3201\n",
      "Epoch 6/20\n",
      "774/774 [==============================] - 1s 1ms/step - loss: 0.3210\n",
      "Epoch 7/20\n",
      "774/774 [==============================] - 1s 1ms/step - loss: 0.3206\n",
      "Epoch 8/20\n",
      "774/774 [==============================] - 1s 1ms/step - loss: 0.3183\n",
      "Epoch 9/20\n",
      "774/774 [==============================] - 1s 1ms/step - loss: 0.3117\n",
      "Epoch 10/20\n",
      "774/774 [==============================] - 1s 1ms/step - loss: 0.3134\n",
      "Epoch 11/20\n",
      "774/774 [==============================] - 1s 1ms/step - loss: 0.3201\n",
      "Epoch 12/20\n",
      "774/774 [==============================] - 1s 1ms/step - loss: 0.3119\n",
      "Epoch 13/20\n",
      "774/774 [==============================] - 1s 1ms/step - loss: 0.3134\n",
      "Epoch 14/20\n",
      "774/774 [==============================] - 1s 1ms/step - loss: 0.3075\n",
      "Epoch 15/20\n",
      "774/774 [==============================] - 1s 1ms/step - loss: 0.3054\n",
      "Epoch 16/20\n",
      "774/774 [==============================] - 1s 1ms/step - loss: 0.3035\n",
      "Epoch 17/20\n",
      "774/774 [==============================] - 1s 1ms/step - loss: 0.3037\n",
      "Epoch 18/20\n",
      "774/774 [==============================] - 1s 1ms/step - loss: 0.3067\n",
      "Epoch 19/20\n",
      "774/774 [==============================] - 1s 1ms/step - loss: 0.3009\n",
      "Epoch 20/20\n",
      "774/774 [==============================] - 1s 1ms/step - loss: 0.3080\n"
     ]
    }
   ],
   "source": [
    "tf.random.set_seed(\n",
    "    94\n",
    ")\n",
    "\n",
    "def nn_classifier(n_features):\n",
    "    inputs = Input(shape=(n_features,))\n",
    "    dense1 = Dense(32, activation='relu')(inputs)\n",
    "    dropout1 = Dropout(0.2)(dense1)\n",
    "    dense2 = Dense(32, activation='relu')(dropout1)\n",
    "    dropout2 = Dropout(0.2)(dense2)\n",
    "    dense3 = Dense(32, activation=\"relu\")(dropout2)\n",
    "    dropout3 = Dropout(0.2)(dense3)\n",
    "    outputs = Dense(1, activation='sigmoid')(dropout3)\n",
    "    model = Model(inputs=[inputs], outputs=[outputs])\n",
    "    model.compile(loss='binary_crossentropy', optimizer='adam')\n",
    "    return model\n",
    "\n",
    "# initialise NeuralNet Classifier\n",
    "clf = nn_classifier(n_features=X_train.shape[1])\n",
    "\n",
    "# train on train set\n",
    "history = clf.fit(X_train.values, y_train.values, epochs=20, verbose=1)"
   ]
  },
  {
   "cell_type": "markdown",
   "id": "alpha-framework",
   "metadata": {},
   "source": [
    "# Performance and Fairness - BCE network\n"
   ]
  },
  {
   "cell_type": "code",
   "execution_count": 9,
   "id": "organized-pontiac",
   "metadata": {},
   "outputs": [
    {
     "name": "stdout",
     "output_type": "stream",
     "text": [
      "ROC AUC: 0.92\n",
      "Basline Accuracy: 75.7%\n",
      "Accuracy: 85.9%\n",
      "Precision: 76.7%\n",
      "Recall: 60.0%\n",
      "Classification reports per protected Attribute:\n",
      "\n",
      "           Protected class == race\n",
      "                      Subclass==0\n",
      "\n",
      "Accuracy: 91.0%\n",
      "Precision: 66.2%\n",
      "Recall: 57.7%\n",
      "Sampels: 619 - Positives: 68 - Correct positives: 45\n",
      "Positive rate: 11.0%\n",
      "                      Subclass==1\n",
      "\n",
      "Accuracy: 85.3%\n",
      "Precision: 77.3%\n",
      "Recall: 60.1%\n",
      "Sampels: 5569 - Positives: 1106 - Correct positives: 855\n",
      "Positive rate: 19.9%\n",
      "\n",
      "           Protected class == sex\n",
      "                      Subclass==0\n",
      "\n",
      "Accuracy: 93.7%\n",
      "Precision: 72.7%\n",
      "Recall: 56.8%\n",
      "Sampels: 2112 - Positives: 161 - Correct positives: 117\n",
      "Positive rate: 7.6%\n",
      "                      Subclass==1\n",
      "\n",
      "Accuracy: 81.8%\n",
      "Precision: 77.3%\n",
      "Recall: 60.5%\n",
      "Sampels: 4076 - Positives: 1013 - Correct positives: 783\n",
      "Positive rate: 24.9%\n"
     ]
    }
   ],
   "source": [
    "# predict on test set\n",
    "y_pred = pd.Series(clf.predict(X_test.values).ravel(), index=y_test.index)\n",
    "def score_report(y_pred,y_test,Z_test=Z_test):\n",
    "    print(f\"ROC AUC: {roc_auc_score(y_test, y_pred):.2f}\")\n",
    "    print(f\"Basline Accuracy: {100*np.max([len(y_test[y_test==0]),len(y_test[y_test==1])])/len(y_test):.1f}%\")\n",
    "    print(f\"Accuracy: {100*accuracy_score(y_test, (y_pred>=0.5)):.1f}%\")\n",
    "    print(f\"Precision: {100*precision_score(y_test, y_pred>=0.5):.1f}%\")\n",
    "    print(f\"Recall: {100*recall_score(y_test, y_pred>=0.5):.1f}%\")\n",
    "    print(f\"Classification reports per protected Attribute:\")\n",
    "    for z_att in [\"race\",\"sex\"]:\n",
    "        print(f\"\\n           Protected class == {z_att}\")\n",
    "        for subclass in [0,1]:\n",
    "            print(f\"                      Subclass=={subclass}\\n\")\n",
    "            mask = Z_test[z_att] == subclass\n",
    "            y_pred_sub = y_pred[mask]\n",
    "            y_test_sub = y_test[mask]\n",
    "            print(f\"Accuracy: {100*accuracy_score(y_test_sub, y_pred_sub>=0.5):.1f}%\")\n",
    "            print(f\"Precision: {100*precision_score(y_test_sub, y_pred_sub >= 0.5):.1f}%\")\n",
    "            print(f\"Recall: {100*recall_score(y_test_sub, y_pred_sub >= 0.5):.1f}%\")\n",
    "            overlap = (y_pred_sub>=0.5)*y_test_sub\n",
    "            print(f\"Sampels: {len(y_pred_sub)} - Positives: {(y_pred_sub>=0.5).sum()} - Correct positives: {overlap.sum():.0f}\")\n",
    "            print(f\"Positive rate: {(y_pred_sub>=0.5).sum()/len(y_pred_sub)*100:.1f}%\")\n",
    "score_report(y_pred, y_test)\n",
    "        "
   ]
  },
  {
   "cell_type": "code",
   "execution_count": 10,
   "id": "interesting-prescription",
   "metadata": {},
   "outputs": [],
   "source": [
    "def plot_distributions(y, Z, iteration=None, val_metrics=None, p_rules=None, fname=None):\n",
    "    \"\"\"\n",
    "    Creates kernel Density estimate plots of the NN-prediction scores \n",
    "    \"\"\"\n",
    "    fig, axes = plt.subplots(1, 2, figsize=(10, 4), sharey=True)\n",
    "    legend={'race': ['black','white'],\n",
    "            'sex': ['female','male']}\n",
    "    for idx, attr in enumerate(Z.columns):\n",
    "        for attr_val in [0, 1]:\n",
    "            ax = sns.kdeplot(data=y[Z[attr] == attr_val],\n",
    "                             label='{}'.format(legend[attr][attr_val]), \n",
    "                             ax=axes[idx], fill=True)\n",
    "        ax.set_xlim(0,1)\n",
    "        ax.set_ylim(0,7)\n",
    "        ax.set_yticks([])\n",
    "        ax.set_title(\"sensitive attibute: {}\".format(attr))\n",
    "        if idx == 0:\n",
    "            ax.set_ylabel('prediction distribution')\n",
    "        ax.set_xlabel(r'$P({{income>50K}}|z_{{{}}})$'.format(attr))\n",
    "    if iteration:\n",
    "        fig.text(1.0, 0.9, f\"Training iteration #{iteration}\", fontsize='16')\n",
    "    if val_metrics is not None:\n",
    "        fig.text(1.0, 0.65, '\\n'.join([\"Prediction performance:\",\n",
    "                                       f\"- ROC AUC: {val_metrics['ROC AUC']:.2f}\",\n",
    "                                       f\"- Accuracy: {val_metrics['Accuracy']:.1f}\"]),\n",
    "                 fontsize='16')\n",
    "    if p_rules is not None:\n",
    "        fig.text(1.0, 0.4, '\\n'.join([\"Satisfied p%-rules:\"] +\n",
    "                                     [f\"- {attr}: {p_rules[attr]:.0f}%-rule\" \n",
    "                                      for attr in p_rules.keys()]), \n",
    "                 fontsize='16')\n",
    "    fig.tight_layout()\n",
    "    if fname is not None:\n",
    "        plt.savefig(fname, bbox_inches='tight',  dpi = 300)\n",
    "    return fig"
   ]
  },
  {
   "cell_type": "code",
   "execution_count": 11,
   "id": "supported-exception",
   "metadata": {},
   "outputs": [
    {
     "data": {
      "image/png": "[encoded data removed]",
      "text/plain": [
       "<Figure size 720x288 with 2 Axes>"
      ]
     },
     "metadata": {
      "needs_background": "light"
     },
     "output_type": "display_data"
    }
   ],
   "source": [
    "fig = plot_distributions(y_pred, Z_test)"
   ]
  },
  {
   "cell_type": "code",
   "execution_count": 12,
   "id": "periodic-theorem",
   "metadata": {},
   "outputs": [
    {
     "data": {
      "image/png": "[encoded data removed]",
      "text/plain": [
       "<Figure size 432x288 with 1 Axes>"
      ]
     },
     "metadata": {
      "needs_background": "light"
     },
     "output_type": "display_data"
    },
    {
     "name": "stdout",
     "output_type": "stream",
     "text": [
      "0.11115101454480159\n",
      "0.5181550539744848\n"
     ]
    },
    {
     "data": {
      "image/png": "[encoded data removed]",
      "text/plain": [
       "<Figure size 432x288 with 1 Axes>"
      ]
     },
     "metadata": {
      "needs_background": "light"
     },
     "output_type": "display_data"
    }
   ],
   "source": [
    "title=\"sex\"\n",
    "plt.title(title)\n",
    "plt.hist(y_pred[Z_test[title]==0],25,(0,1),alpha=0.4,color=\"b\")\n",
    "plt.hist(y_pred[Z_test[title]==1],25,(0,1),alpha=0.4,color=\"r\")\n",
    "plt.show()\n",
    "title=\"race\"\n",
    "plt.title(title)\n",
    "plt.hist(y_pred[Z_test[title]==0],25,(0,1),alpha=0.4,color=\"b\")\n",
    "plt.hist(y_pred[Z_test[title]==1],25,(0,1),alpha=0.4,color=\"r\")\n",
    "print(len(y_pred[Z_test[\"race\"]==0])/len(y_pred[Z_test[\"race\"]==1]))\n",
    "print(len(y_pred[Z_test[\"sex\"]==0])/len(y_pred[Z_test[\"sex\"]==1]))"
   ]
  },
  {
   "cell_type": "markdown",
   "id": "controversial-service",
   "metadata": {},
   "source": [
    "## P%-rule (Disparate Impact (DI) metric)\n",
    "This metric is one way to measure the fairness of an algorithm. The 80%-rule, als known as the rule of Four-Fifths states that the selection rate for any group (classified by race, orientation or ethnicity) that is less than four-fifths of that for the group with the highest rate constitutes evidence of adverse impact (also called ‘Disparate impact’. This Four-Fifths rule has been stated in US hiring procedures for the state of California. Any group (based on sex, race, etc.) which has a hiring rate of less than 80% of the most succesfull group is said to have undergone adverse impact. This rule has been critzised based on the arbitrary nature of the rule, and should not be taken as a gold standard. However, it provides a standard which can be used as a basis for this project.\n",
    "\n",
    "In [Zafar et al. 2017](https://arxiv.org/pdf/1507.05259.pdf) it is stated that the Disparate Impact measure is non-convex when implemented in algorithms. However, this need not necessarily be a problem as most NN loss functions are in fact non-convex. This notebook does not provide a rigorous derivation of why this works. However, it is empirically shown to obtain the sought-after effects.  \n",
    "\n",
    "This P%-rule is can give a false sense of fairness when the base positive rates for the two groups are in fact very different for a good reason. If you assume there is an unwanted bias in the way the labels are assigned, or you assume there is a bias in the way the data is acquired, this is a usefull fairness metric.  "
   ]
  },
  {
   "cell_type": "code",
   "execution_count": 13,
   "id": "apparent-foundation",
   "metadata": {},
   "outputs": [],
   "source": [
    "def p_rule(y_pred, z_values, threshold=0.5):\n",
    "    y_z_1 = y_pred[z_values == 1] > threshold if threshold else y_pred[z_values == 1]\n",
    "    y_z_0 = y_pred[z_values == 0] > threshold if threshold else y_pred[z_values == 0]\n",
    "    odds = y_z_1.mean() / y_z_0.mean()\n",
    "    return np.min([odds, 1/odds]) * 100"
   ]
  },
  {
   "cell_type": "code",
   "execution_count": 14,
   "id": "remarkable-intent",
   "metadata": {},
   "outputs": [
    {
     "name": "stdout",
     "output_type": "stream",
     "text": [
      "The classifier satisfies the following %p-rules:\n",
      "\tgiven attribute race; 55%-rule\n",
      "\tgiven attribute sex;  31%-rule\n"
     ]
    }
   ],
   "source": [
    "print(\"The classifier satisfies the following %p-rules:\")\n",
    "print(f\"\\tgiven attribute race; {p_rule(y_pred, Z_test['race']):.0f}%-rule\")\n",
    "print(f\"\\tgiven attribute sex;  {p_rule(y_pred, Z_test['sex']):.0f}%-rule\")\n",
    "        "
   ]
  },
  {
   "cell_type": "markdown",
   "id": "fuzzy-penetration",
   "metadata": {},
   "source": [
    "It is clear that the current performance is very much biased, especially if one considers the sex of the person in question. "
   ]
  },
  {
   "cell_type": "markdown",
   "id": "frequent-guidance",
   "metadata": {},
   "source": [
    "## Demographic parity\n",
    "This is very similair to the p-rule, it measures the difference between P(Y=1|Z=0) and (P(Y=1|Z=1).\n",
    "In essense there is no real difference between this metric and disparate impact. Both metrics aim to achieve P(Y=1|Z=0) = (P(Y=1|Z=1) in a perfect scenario. Disparate impact does this by considering the ratio between the two values, while Demographic parity does this by considering the absolute difference between the two values."
   ]
  },
  {
   "cell_type": "code",
   "execution_count": 15,
   "id": "particular-wesley",
   "metadata": {},
   "outputs": [],
   "source": [
    "def demographic_parity(y_pred, z_values, threshold=0.5):\n",
    "    y_z_1 = y_pred[z_values == 1] > threshold if threshold else y_pred[z_values == 1]\n",
    "    y_z_0 = y_pred[z_values == 0] > threshold if threshold else y_pred[z_values == 0]\n",
    "    parity = np.abs(y_z_1.mean() - y_z_0.mean())\n",
    "    return parity * 100"
   ]
  },
  {
   "cell_type": "code",
   "execution_count": 16,
   "id": "cooked-princess",
   "metadata": {},
   "outputs": [
    {
     "name": "stdout",
     "output_type": "stream",
     "text": [
      "The classifier sattisfies the following Demographic parities:\n",
      "\tgiven attribute race; 8.9%\n",
      "\tgiven attribute sex;  17.2%\n"
     ]
    }
   ],
   "source": [
    "print(\"The classifier sattisfies the following Demographic parities:\")\n",
    "print(f\"\\tgiven attribute race; {demographic_parity(y_pred, Z_test['race']):.1f}%\")\n",
    "print(f\"\\tgiven attribute sex;  {demographic_parity(y_pred, Z_test['sex']):.1f}%\")"
   ]
  },
  {
   "cell_type": "markdown",
   "id": "abroad-portal",
   "metadata": {},
   "source": [
    "One disadvantage of these two measures is that a fully accurate classifier may be considered\n",
    "unfair, when the base rates (i.e., the proportion of actual positive outcomes) of the various\n",
    "groups are significantly different. ([**Pessach et al. 2020**](https://arxiv.org/pdf/2001.09784.pdf))"
   ]
  },
  {
   "cell_type": "markdown",
   "id": "integral-logistics",
   "metadata": {},
   "source": [
    "##  Equalized odds\n",
    "Equalized odds looks at the difference in false positive rates and true positive rates for the groups in question.\n",
    "The goal for for equalized odds is to grant both groups the same false positive rate and true positive rate; Your odds of getting assigned a 1 are the same regardless of which group you are in. This fairness metric works well, but implies that you assume your dataset is not biased and that the base rates of the groups in your dataset are representative. This may of course be problematic to use in scenarios where "
   ]
  },
  {
   "cell_type": "code",
   "execution_count": 17,
   "id": "adverse-check",
   "metadata": {},
   "outputs": [],
   "source": [
    "def equalized_odds(y_pred, y_true, z_values, threshold=0.5):\n",
    "    def TPR(predicted, true):\n",
    "        true, predicted = np.array(true), np.array(predicted)\n",
    "        mask = (true==predicted)\n",
    "        predicted = predicted[mask]\n",
    "        return np.sum(predicted)/np.sum(true) #TP/Positives\n",
    "    \n",
    "    def FPR(predicted, true):\n",
    "        true, predicted = np.array(true), np.array(predicted)\n",
    "        mask = (true!=predicted)\n",
    "        predicted = predicted[mask]\n",
    "        return np.sum(predicted)/np.sum(1 - true) #FP/Negatives\n",
    "    \n",
    "    y_pred_z_1 = y_pred[z_values == 1] > threshold if threshold else y_pred[z_values == 1]\n",
    "    y_true_z_1  = y_true[z_values == 1] > threshold if threshold else y_true[z_values == 1]\n",
    "    y_pred_z_0 = y_pred[z_values == 0] > threshold if threshold else y_pred[z_values == 0]\n",
    "    y_true_z_0 = y_true[z_values == 0] > threshold if threshold else y_true[z_values == 0]\n",
    "    epsilon_TPR = np.abs(TPR(y_pred_z_1, y_true_z_1) - TPR(y_pred_z_0, y_true_z_0))\n",
    "    epsilon_FPR = np.abs(FPR(y_pred_z_1, y_true_z_1) - FPR(y_pred_z_0, y_true_z_0))\n",
    "    return max(epsilon_TPR, epsilon_FPR)*100"
   ]
  },
  {
   "cell_type": "code",
   "execution_count": 18,
   "id": "established-minneapolis",
   "metadata": {},
   "outputs": [
    {
     "name": "stdout",
     "output_type": "stream",
     "text": [
      "The classifier sattisfies the following equalized odds epsilon:\n",
      "\tgiven attribute race; 2.4%\n",
      "\tgiven attribute sex;  6.0%\n"
     ]
    }
   ],
   "source": [
    "print(\"The classifier sattisfies the following equalized odds epsilon:\")\n",
    "print(f\"\\tgiven attribute race; {equalized_odds(y_pred, y_test, Z_test['race']):.1f}%\")\n",
    "print(f\"\\tgiven attribute sex;  {equalized_odds(y_pred, y_test, Z_test['sex']):.1f}%\")"
   ]
  },
  {
   "cell_type": "markdown",
   "id": "presidential-concern",
   "metadata": {},
   "source": [
    "# Performance and Fairness 2 - BCE + Disparate Impact network\n",
    "Below we show an implementation of the Disparate Impact in addition to the usual binary cross-entropy.\n",
    "The impact on the performance metrics and the fairness metrics is shown."
   ]
  },
  {
   "cell_type": "code",
   "execution_count": 19,
   "id": "numerous-horizon",
   "metadata": {},
   "outputs": [],
   "source": [
    "bce = tf.keras.losses.BinaryCrossentropy()\n",
    "\n",
    "def custom_loss(theta):\n",
    "    \"\"\"\n",
    "    Using this wrapper to return the internal loss function allows for easy editing of \n",
    "    the otherwise high level Keras/Tensorflow model fitting objects, which expect to pass only (y_true, y_pred)\n",
    "    \n",
    "    Parameters\n",
    "    ----------\n",
    "    Theta - tuple\n",
    "        weights of the DI_loss factors in the combined loss function\n",
    "    \"\"\"\n",
    "    def DI_loss_z(y_true, y_pred, z):\n",
    "        \"\"\"\n",
    "        Implementation of the Disparate Impact\n",
    "        DI is an maximazation metric bounded on [0,1], thus this is easily turned into \n",
    "        a minimization problem by taking '1 - DI'  \n",
    "        \"\"\"\n",
    "        y_pred_1 = y_pred*z\n",
    "        y_pred_0 = y_pred*(1-z)\n",
    "        #ratio accounts for different proportions, as the mean also depends on 0 entries\n",
    "        ratio = tf.reduce_sum(1-z)/tf.reduce_sum(z)\n",
    "        odds = tf.reduce_mean(y_pred_1)*ratio/(tf.reduce_mean(y_pred_0))\n",
    "        custom_loss = 1-tf.minimum(odds, 1/odds)\n",
    "        #tf.print(\"a\", y_pred_1, \"b\")\n",
    "        return custom_loss\n",
    "    \n",
    "    def final_loss(y, y_pred):\n",
    "        \"\"\"\n",
    "        Theta is used internally to regulate the relative weights of the loss function additions\n",
    "        \"\"\"\n",
    "        y_true, z_race, z_sex = y[:,0], y[:,1], y[:,2]\n",
    "        y_pred = tf.transpose(y_pred)\n",
    "        return bce(y_true, y_pred) + theta[0]*DI_loss_z(y_true, y_pred, z_race) + theta[1]*DI_loss_z(y_true, y_pred, z_sex)\n",
    "    return final_loss"
   ]
  },
  {
   "cell_type": "code",
   "execution_count": 20,
   "id": "british-split",
   "metadata": {
    "scrolled": true
   },
   "outputs": [
    {
     "name": "stdout",
     "output_type": "stream",
     "text": [
      "Epoch 1/30\n",
      "WARNING:tensorflow:AutoGraph could not transform <function custom_loss.<locals>.final_loss at 0x7f5d885df0d0> and will run it as-is.\n",
      "Please report this to the TensorFlow team. When filing the bug, set the verbosity to 10 (on Linux, `export AUTOGRAPH_VERBOSITY=10`) and attach the full output.\n",
      "Cause: module 'gast' has no attribute 'Index'\n",
      "To silence this warning, decorate the function with @tf.autograph.experimental.do_not_convert\n",
      "WARNING: AutoGraph could not transform <function custom_loss.<locals>.final_loss at 0x7f5d885df0d0> and will run it as-is.\n",
      "Please report this to the TensorFlow team. When filing the bug, set the verbosity to 10 (on Linux, `export AUTOGRAPH_VERBOSITY=10`) and attach the full output.\n",
      "Cause: module 'gast' has no attribute 'Index'\n",
      "To silence this warning, decorate the function with @tf.autograph.experimental.do_not_convert\n",
      "25/25 [==============================] - 1s 15ms/step - loss: 0.8081 - acc: 0.5352 - val_loss: 0.6162 - val_acc: 0.4078\n",
      "Epoch 2/30\n",
      "25/25 [==============================] - 0s 4ms/step - loss: 0.6020 - acc: 0.4085 - val_loss: 0.5573 - val_acc: 0.4009\n",
      "Epoch 3/30\n",
      "25/25 [==============================] - 0s 3ms/step - loss: 0.5541 - acc: 0.3978 - val_loss: 0.5264 - val_acc: 0.4017\n",
      "Epoch 4/30\n",
      "25/25 [==============================] - 0s 4ms/step - loss: 0.5312 - acc: 0.4014 - val_loss: 0.5016 - val_acc: 0.4068\n",
      "Epoch 5/30\n",
      "25/25 [==============================] - 0s 4ms/step - loss: 0.5050 - acc: 0.4106 - val_loss: 0.4881 - val_acc: 0.4211\n",
      "Epoch 6/30\n",
      "25/25 [==============================] - 0s 4ms/step - loss: 0.4983 - acc: 0.4198 - val_loss: 0.4795 - val_acc: 0.4276\n",
      "Epoch 7/30\n",
      "25/25 [==============================] - 0s 4ms/step - loss: 0.4933 - acc: 0.4267 - val_loss: 0.4757 - val_acc: 0.4372\n",
      "Epoch 8/30\n",
      "25/25 [==============================] - 0s 3ms/step - loss: 0.4844 - acc: 0.4337 - val_loss: 0.4696 - val_acc: 0.4449\n",
      "Epoch 9/30\n",
      "25/25 [==============================] - 0s 4ms/step - loss: 0.4686 - acc: 0.4398 - val_loss: 0.4652 - val_acc: 0.4578\n",
      "Epoch 10/30\n",
      "25/25 [==============================] - 0s 3ms/step - loss: 0.4674 - acc: 0.4464 - val_loss: 0.4620 - val_acc: 0.4578\n",
      "Epoch 11/30\n",
      "25/25 [==============================] - 0s 4ms/step - loss: 0.4780 - acc: 0.4516 - val_loss: 0.4574 - val_acc: 0.4699\n",
      "Epoch 12/30\n",
      "25/25 [==============================] - 0s 4ms/step - loss: 0.4646 - acc: 0.4638 - val_loss: 0.4540 - val_acc: 0.4767\n",
      "Epoch 13/30\n",
      "25/25 [==============================] - 0s 4ms/step - loss: 0.4641 - acc: 0.4655 - val_loss: 0.4514 - val_acc: 0.4821\n",
      "Epoch 14/30\n",
      "25/25 [==============================] - 0s 4ms/step - loss: 0.4633 - acc: 0.4738 - val_loss: 0.4517 - val_acc: 0.4752\n",
      "Epoch 15/30\n",
      "25/25 [==============================] - 0s 3ms/step - loss: 0.4733 - acc: 0.4665 - val_loss: 0.4508 - val_acc: 0.4685\n",
      "Epoch 16/30\n",
      "25/25 [==============================] - 0s 4ms/step - loss: 0.4551 - acc: 0.4619 - val_loss: 0.4494 - val_acc: 0.4715\n",
      "Epoch 17/30\n",
      "25/25 [==============================] - 0s 4ms/step - loss: 0.4529 - acc: 0.4679 - val_loss: 0.4476 - val_acc: 0.4832\n",
      "Epoch 18/30\n",
      "25/25 [==============================] - 0s 3ms/step - loss: 0.4588 - acc: 0.4782 - val_loss: 0.4461 - val_acc: 0.4801\n",
      "Epoch 19/30\n",
      "25/25 [==============================] - 0s 4ms/step - loss: 0.4501 - acc: 0.4749 - val_loss: 0.4451 - val_acc: 0.4850\n",
      "Epoch 20/30\n",
      "25/25 [==============================] - 0s 4ms/step - loss: 0.4437 - acc: 0.4788 - val_loss: 0.4427 - val_acc: 0.4805\n",
      "Epoch 21/30\n",
      "25/25 [==============================] - 0s 4ms/step - loss: 0.4476 - acc: 0.4711 - val_loss: 0.4433 - val_acc: 0.4825\n",
      "Epoch 22/30\n",
      "25/25 [==============================] - 0s 4ms/step - loss: 0.4518 - acc: 0.4791 - val_loss: 0.4444 - val_acc: 0.4841\n",
      "Epoch 23/30\n",
      "25/25 [==============================] - 0s 4ms/step - loss: 0.4403 - acc: 0.4759 - val_loss: 0.4420 - val_acc: 0.4731\n",
      "Epoch 24/30\n",
      "25/25 [==============================] - 0s 3ms/step - loss: 0.4448 - acc: 0.4701 - val_loss: 0.4427 - val_acc: 0.4820\n",
      "Epoch 25/30\n",
      "25/25 [==============================] - 0s 3ms/step - loss: 0.4466 - acc: 0.4787 - val_loss: 0.4411 - val_acc: 0.4836\n",
      "Epoch 26/30\n",
      "25/25 [==============================] - 0s 3ms/step - loss: 0.4550 - acc: 0.4762 - val_loss: 0.4390 - val_acc: 0.4833\n",
      "Epoch 27/30\n",
      "25/25 [==============================] - 0s 3ms/step - loss: 0.4424 - acc: 0.4794 - val_loss: 0.4386 - val_acc: 0.4793\n",
      "Epoch 28/30\n",
      "25/25 [==============================] - 0s 4ms/step - loss: 0.4413 - acc: 0.4779 - val_loss: 0.4389 - val_acc: 0.4824\n",
      "Epoch 29/30\n",
      "25/25 [==============================] - 0s 4ms/step - loss: 0.4422 - acc: 0.4798 - val_loss: 0.4386 - val_acc: 0.4838\n",
      "Epoch 30/30\n",
      "25/25 [==============================] - 0s 3ms/step - loss: 0.4485 - acc: 0.4812 - val_loss: 0.4393 - val_acc: 0.4853\n"
     ]
    },
    {
     "data": {
      "text/plain": [
       "Text(0.5, 1.0, 'Training and Validation accuracy')"
      ]
     },
     "execution_count": 20,
     "metadata": {},
     "output_type": "execute_result"
    },
    {
     "data": {
      "image/png": "[encoded data removed]",
      "text/plain": [
       "<Figure size 576x432 with 1 Axes>"
      ]
     },
     "metadata": {
      "needs_background": "light"
     },
     "output_type": "display_data"
    },
    {
     "data": {
      "image/png": "[encoded data removed]",
      "text/plain": [
       "<Figure size 576x432 with 1 Axes>"
      ]
     },
     "metadata": {
      "needs_background": "light"
     },
     "output_type": "display_data"
    }
   ],
   "source": [
    "tf.random.set_seed(\n",
    "    94\n",
    ")\n",
    "\n",
    "def nn_classifier(n_features,theta):\n",
    "    inputs = Input(shape=(n_features,))\n",
    "    dense1 = Dense(32, activation='relu')(inputs)\n",
    "    dropout1 = Dropout(0.2)(dense1)\n",
    "    dense2 = Dense(32, activation='relu')(dropout1)\n",
    "    dropout2 = Dropout(0.2)(dense2)\n",
    "    dense3 = Dense(32, activation=\"relu\")(dropout2)\n",
    "    dropout3 = Dropout(0.2)(dense3)\n",
    "    outputs = Dense(1, activation='sigmoid')(dropout3)\n",
    "    model = Model(inputs=[inputs], outputs=[outputs])\n",
    "    model.compile(loss=custom_loss(theta), optimizer='adam', metrics=tf.keras.metrics.BinaryAccuracy(\n",
    "    name='acc', dtype=None, threshold=0.5))\n",
    "    return model\n",
    "\n",
    "# initialise NeuralNet Classifier\n",
    "factor = 1\n",
    "clf = nn_classifier(n_features=X_train.shape[1], theta=(0.43*factor, 0.2*factor))\n",
    "\n",
    "# train on train set\n",
    "Y = np.append(\n",
    "    np.reshape(y_train.values, (y_train.shape[0],1)), \n",
    "    Z_train.values, axis=1\n",
    "    )\n",
    "\n",
    "Y_val = np.append(\n",
    "    np.reshape(y_test.values, (y_test.shape[0],1)),\n",
    "    Z_test.values, axis=1\n",
    "    )\n",
    "\n",
    "history = clf.fit(X_train.values, Y, epochs=30, verbose=1, batch_size=1024, shuffle=True, validation_data = (X_test.values, Y_val))\n",
    "hist = history.history\n",
    "plt.figure(figsize=(8,6))\n",
    "plt.plot(hist[\"loss\"])\n",
    "plt.plot(hist[\"val_loss\"])\n",
    "plt.ylabel(\"Custom loss\")\n",
    "plt.xlabel(\"Epoch\")\n",
    "plt.title(\"Training and Validation loss\")\n",
    "plt.figure(figsize=(8,6))\n",
    "plt.plot(hist[\"acc\"])\n",
    "plt.plot(hist[\"val_acc\"])\n",
    "plt.ylabel(\"acc\")\n",
    "plt.xlabel(\"Epoch\")\n",
    "plt.title(\"Training and Validation accuracy\")"
   ]
  },
  {
   "cell_type": "code",
   "execution_count": 21,
   "id": "numeric-tulsa",
   "metadata": {},
   "outputs": [
    {
     "name": "stdout",
     "output_type": "stream",
     "text": [
      "ROC AUC: 0.85\n",
      "Basline Accuracy: 75.7%\n",
      "Accuracy: 82.3%\n",
      "Precision: 71.4%\n",
      "Recall: 45.3%\n",
      "Classification reports per protected Attribute:\n",
      "\n",
      "           Protected class == race\n",
      "                      Subclass==0\n",
      "\n",
      "Accuracy: 86.3%\n",
      "Precision: 44.6%\n",
      "Recall: 37.2%\n",
      "Sampels: 619 - Positives: 65 - Correct positives: 29\n",
      "Positive rate: 10.5%\n",
      "                      Subclass==1\n",
      "\n",
      "Accuracy: 81.9%\n",
      "Precision: 73.4%\n",
      "Recall: 45.7%\n",
      "Sampels: 5569 - Positives: 887 - Correct positives: 651\n",
      "Positive rate: 15.9%\n",
      "\n",
      "           Protected class == sex\n",
      "                      Subclass==0\n",
      "\n",
      "Accuracy: 89.7%\n",
      "Precision: 48.1%\n",
      "Recall: 68.9%\n",
      "Sampels: 2112 - Positives: 295 - Correct positives: 142\n",
      "Positive rate: 14.0%\n",
      "                      Subclass==1\n",
      "\n",
      "Accuracy: 78.5%\n",
      "Precision: 81.9%\n",
      "Recall: 41.5%\n",
      "Sampels: 4076 - Positives: 657 - Correct positives: 538\n",
      "Positive rate: 16.1%\n"
     ]
    }
   ],
   "source": [
    "# predict on test set\n",
    "y_pred = pd.Series(clf.predict(X_test.values).ravel(), index=y_test.index)\n",
    "score_report(y_pred, y_test)\n",
    "        \n",
    "        "
   ]
  },
  {
   "cell_type": "code",
   "execution_count": 22,
   "id": "christian-fifty",
   "metadata": {},
   "outputs": [
    {
     "name": "stdout",
     "output_type": "stream",
     "text": [
      "The classifier satisfies the following %p-rules:\n",
      "\tgiven attribute race; 66%-rule\n",
      "\tgiven attribute sex;  87%-rule\n"
     ]
    },
    {
     "data": {
      "image/png": "[encoded data removed]",
      "text/plain": [
       "<Figure size 720x288 with 2 Axes>"
      ]
     },
     "metadata": {
      "needs_background": "light"
     },
     "output_type": "display_data"
    }
   ],
   "source": [
    "fig = plot_distributions(y_pred, Z_test)\n",
    "print(\"The classifier satisfies the following %p-rules:\")\n",
    "print(f\"\\tgiven attribute race; {p_rule(y_pred, Z_test['race']):.0f}%-rule\")\n",
    "print(f\"\\tgiven attribute sex;  {p_rule(y_pred, Z_test['sex']):.0f}%-rule\")"
   ]
  },
  {
   "cell_type": "code",
   "execution_count": 23,
   "id": "collectible-diamond",
   "metadata": {},
   "outputs": [
    {
     "data": {
      "image/png": "[encoded data removed]",
      "text/plain": [
       "<Figure size 432x288 with 1 Axes>"
      ]
     },
     "metadata": {
      "needs_background": "light"
     },
     "output_type": "display_data"
    },
    {
     "name": "stdout",
     "output_type": "stream",
     "text": [
      "0.11115101454480159\n",
      "0.5181550539744848\n"
     ]
    },
    {
     "data": {
      "image/png": "[encoded data removed]",
      "text/plain": [
       "<Figure size 432x288 with 1 Axes>"
      ]
     },
     "metadata": {
      "needs_background": "light"
     },
     "output_type": "display_data"
    }
   ],
   "source": [
    "title=\"sex\"\n",
    "plt.title(title)\n",
    "plt.hist(y_pred[Z_test[title]==0],25,(0,1),alpha=0.4,color=\"b\",density=1)\n",
    "plt.hist(y_pred[Z_test[title]==1],25,(0,1),alpha=0.4,color=\"r\",density=1)\n",
    "plt.show()\n",
    "title=\"race\"\n",
    "plt.title(title)\n",
    "plt.hist(y_pred[Z_test[title]==0],25,(0,1),alpha=0.4,color=\"b\",density=1)\n",
    "plt.hist(y_pred[Z_test[title]==1],25,(0,1),alpha=0.4,color=\"r\",density=1)\n",
    "print(len(y_pred[Z_test[\"race\"]==0])/len(y_pred[Z_test[\"race\"]==1]))\n",
    "print(len(y_pred[Z_test[\"sex\"]==0])/len(y_pred[Z_test[\"sex\"]==1]))"
   ]
  },
  {
   "cell_type": "code",
   "execution_count": 24,
   "id": "small-parameter",
   "metadata": {},
   "outputs": [
    {
     "name": "stdout",
     "output_type": "stream",
     "text": [
      "The classifier sattisfies the following equalized odds epsilon:\n",
      "\tgiven attribute race; 8.6%\n",
      "\tgiven attribute sex;  27.4%\n"
     ]
    }
   ],
   "source": [
    "print(\"The classifier sattisfies the following equalized odds epsilon:\")\n",
    "print(f\"\\tgiven attribute race; {equalized_odds(y_pred, y_test, Z_test['race']):.1f}%\")\n",
    "print(f\"\\tgiven attribute sex;  {equalized_odds(y_pred, y_test, Z_test['sex']):.1f}%\")"
   ]
  },
  {
   "cell_type": "markdown",
   "id": "environmental-interval",
   "metadata": {},
   "source": [
    "## Improved DI fairness, at decreased EO fairness, yet very unstable\n",
    "We observe that the KDE distributions have flattened out and the fiarness metrics for race and sex have both improved significantly. This happens at the expense of the model performance, as the AOC score has dropped with regards the the baseline network, as well as the accuracy. The equalized odds epsilon has decreased, especially for the \"sex\" attribute\n",
    "\n",
    "In comparisson to the Adverserial network this method is a lot faster, and can be initialised from an untrained network. But it is also very unstable as the loss function is not at all convex. If one tweaks the parameters ever so slightly the results can be dramatically different."
   ]
  },
  {
   "cell_type": "markdown",
   "id": "b244fc2f",
   "metadata": {},
   "source": [
    "## BCE + Disparate Impact network 2: Regular training followed by modified loss function"
   ]
  },
  {
   "cell_type": "code",
   "execution_count": 25,
   "id": "2614535e",
   "metadata": {
    "scrolled": true
   },
   "outputs": [
    {
     "name": "stdout",
     "output_type": "stream",
     "text": [
      "Epoch 1/30\n",
      "25/25 [==============================] - 0s 5ms/step - loss: 0.7904 - val_loss: 0.5812\n",
      "Epoch 2/30\n",
      "25/25 [==============================] - 0s 3ms/step - loss: 0.5656 - val_loss: 0.4765\n",
      "Epoch 3/30\n",
      "25/25 [==============================] - 0s 3ms/step - loss: 0.4796 - val_loss: 0.4044\n",
      "Epoch 4/30\n",
      "25/25 [==============================] - 0s 3ms/step - loss: 0.4294 - val_loss: 0.3685\n",
      "Epoch 5/30\n",
      "25/25 [==============================] - 0s 3ms/step - loss: 0.3950 - val_loss: 0.3538\n",
      "Epoch 6/30\n",
      "25/25 [==============================] - 0s 2ms/step - loss: 0.3824 - val_loss: 0.3456\n",
      "Epoch 7/30\n",
      "25/25 [==============================] - 0s 3ms/step - loss: 0.3779 - val_loss: 0.3411\n",
      "Epoch 8/30\n",
      "25/25 [==============================] - 0s 3ms/step - loss: 0.3697 - val_loss: 0.3360\n",
      "Epoch 9/30\n",
      "25/25 [==============================] - 0s 3ms/step - loss: 0.3615 - val_loss: 0.3324\n",
      "Epoch 10/30\n",
      "25/25 [==============================] - 0s 3ms/step - loss: 0.3567 - val_loss: 0.3295\n",
      "Epoch 11/30\n",
      "25/25 [==============================] - 0s 3ms/step - loss: 0.3596 - val_loss: 0.3277\n",
      "Epoch 12/30\n",
      "25/25 [==============================] - 0s 3ms/step - loss: 0.3462 - val_loss: 0.3257\n",
      "Epoch 13/30\n",
      "25/25 [==============================] - 0s 3ms/step - loss: 0.3474 - val_loss: 0.3245\n",
      "Epoch 14/30\n",
      "25/25 [==============================] - 0s 3ms/step - loss: 0.3449 - val_loss: 0.3227\n",
      "Epoch 15/30\n",
      "25/25 [==============================] - 0s 3ms/step - loss: 0.3455 - val_loss: 0.3215\n",
      "Epoch 16/30\n",
      "25/25 [==============================] - 0s 3ms/step - loss: 0.3381 - val_loss: 0.3197\n",
      "Epoch 17/30\n",
      "25/25 [==============================] - 0s 2ms/step - loss: 0.3371 - val_loss: 0.3189\n",
      "Epoch 18/30\n",
      "25/25 [==============================] - 0s 2ms/step - loss: 0.3394 - val_loss: 0.3178\n",
      "Epoch 19/30\n",
      "25/25 [==============================] - 0s 2ms/step - loss: 0.3313 - val_loss: 0.3169\n",
      "Epoch 20/30\n",
      "25/25 [==============================] - 0s 3ms/step - loss: 0.3348 - val_loss: 0.3161\n",
      "Epoch 21/30\n",
      "25/25 [==============================] - 0s 3ms/step - loss: 0.3327 - val_loss: 0.3143\n",
      "Epoch 22/30\n",
      "25/25 [==============================] - 0s 2ms/step - loss: 0.3331 - val_loss: 0.3139\n",
      "Epoch 23/30\n",
      "25/25 [==============================] - 0s 2ms/step - loss: 0.3274 - val_loss: 0.3128\n",
      "Epoch 24/30\n",
      "25/25 [==============================] - 0s 2ms/step - loss: 0.3290 - val_loss: 0.3118\n",
      "Epoch 25/30\n",
      "25/25 [==============================] - 0s 3ms/step - loss: 0.3302 - val_loss: 0.3109\n",
      "Epoch 26/30\n",
      "25/25 [==============================] - 0s 3ms/step - loss: 0.3266 - val_loss: 0.3105\n",
      "Epoch 27/30\n",
      "25/25 [==============================] - 0s 3ms/step - loss: 0.3232 - val_loss: 0.3107\n",
      "Epoch 28/30\n",
      "25/25 [==============================] - 0s 3ms/step - loss: 0.3209 - val_loss: 0.3102\n",
      "Epoch 29/30\n",
      "25/25 [==============================] - 0s 2ms/step - loss: 0.3201 - val_loss: 0.3103\n",
      "Epoch 30/30\n",
      "25/25 [==============================] - 0s 2ms/step - loss: 0.3237 - val_loss: 0.3104\n"
     ]
    },
    {
     "data": {
      "image/png": "[encoded data removed]",
      "text/plain": [
       "<Figure size 576x432 with 1 Axes>"
      ]
     },
     "metadata": {
      "needs_background": "light"
     },
     "output_type": "display_data"
    }
   ],
   "source": [
    "tf.random.set_seed(\n",
    "    94\n",
    ")\n",
    "def nn_classifier_bce(n_features):\n",
    "    inputs = Input(shape=(n_features,))\n",
    "    dense1 = Dense(32, activation='relu')(inputs)\n",
    "    dropout1 = Dropout(0.2)(dense1)\n",
    "    dense2 = Dense(32, activation='relu')(dropout1)\n",
    "    dropout2 = Dropout(0.2)(dense2)\n",
    "    dense3 = Dense(32, activation=\"relu\")(dropout2)\n",
    "    dropout3 = Dropout(0.2)(dense3)\n",
    "    outputs = Dense(1, activation='sigmoid')(dropout3)\n",
    "    model = Model(inputs=[inputs], outputs=[outputs])\n",
    "    model.compile(loss='binary_crossentropy', optimizer='adam')\n",
    "    return model\n",
    "\n",
    "def nn_classifier_mod(n_features, theta, learning_rate=0.001):\n",
    "    inputs = Input(shape=(n_features,))\n",
    "    dense1 = Dense(32, activation='relu')(inputs)\n",
    "    dropout1 = Dropout(0.2)(dense1)\n",
    "    dense2 = Dense(32, activation='relu')(dropout1)\n",
    "    dropout2 = Dropout(0.2)(dense2)\n",
    "    dense3 = Dense(32, activation=\"relu\")(dropout2)\n",
    "    dropout3 = Dropout(0.2)(dense3)\n",
    "    outputs = Dense(1, activation='sigmoid')(dropout3)\n",
    "    model = Model(inputs=[inputs], outputs=[outputs])\n",
    "    model.compile(loss=custom_loss(theta), optimizer=tf.keras.optimizers.Adam(learning_rate=learning_rate),\n",
    "                  metrics=tf.keras.metrics.BinaryAccuracy(name='acc', \n",
    "                                                          dtype=None, threshold=0.5\n",
    "                                                         )\n",
    "                 )\n",
    "    return model\n",
    "\n",
    "# initialise BCE NeuralNet Classifier\n",
    "clf_bce = nn_classifier_bce(n_features=X_train.shape[1])\n",
    "\n",
    "# train on train set\n",
    "Y = np.append(\n",
    "    np.reshape(y_train.values, (y_train.shape[0],1)), \n",
    "    Z_train.values, axis=1\n",
    "    )\n",
    "\n",
    "Y_val = np.append(\n",
    "    np.reshape(y_test.values, (y_test.shape[0],1)),\n",
    "    Z_test.values, axis=1\n",
    "    )\n",
    "\n",
    "history = clf_bce.fit(X_train.values, y_train.values, epochs=30, verbose=1, batch_size=1024, shuffle=True, validation_data = (X_test.values, y_test.values))\n",
    "hist = history.history\n",
    "plt.figure(figsize=(8,6))\n",
    "plt.plot(hist[\"loss\"])\n",
    "plt.plot(hist[\"val_loss\"])\n",
    "plt.ylabel(\"Custom loss\")\n",
    "plt.xlabel(\"Epoch\")\n",
    "plt.title(\"Training and Validation loss - BCE\")\n",
    "\n",
    "\n",
    "#Tensorflow does not allow dynamic changes of the loss function, we circumvent this\n",
    "#by saving and loading the weights from the first network into the new network\n",
    "weights = clf_bce.get_weights()"
   ]
  },
  {
   "cell_type": "code",
   "execution_count": 26,
   "id": "9593bcec",
   "metadata": {},
   "outputs": [
    {
     "name": "stdout",
     "output_type": "stream",
     "text": [
      "Epoch 1/50\n",
      "WARNING:tensorflow:AutoGraph could not transform <function custom_loss.<locals>.final_loss at 0x7f5d8871aaf0> and will run it as-is.\n",
      "Please report this to the TensorFlow team. When filing the bug, set the verbosity to 10 (on Linux, `export AUTOGRAPH_VERBOSITY=10`) and attach the full output.\n",
      "Cause: module 'gast' has no attribute 'Index'\n",
      "To silence this warning, decorate the function with @tf.autograph.experimental.do_not_convert\n",
      "WARNING: AutoGraph could not transform <function custom_loss.<locals>.final_loss at 0x7f5d8871aaf0> and will run it as-is.\n",
      "Please report this to the TensorFlow team. When filing the bug, set the verbosity to 10 (on Linux, `export AUTOGRAPH_VERBOSITY=10`) and attach the full output.\n",
      "Cause: module 'gast' has no attribute 'Index'\n",
      "To silence this warning, decorate the function with @tf.autograph.experimental.do_not_convert\n",
      "25/25 [==============================] - 1s 8ms/step - loss: 0.6985 - acc: 0.5289 - val_loss: 0.6502 - val_acc: 0.5362\n",
      "Epoch 2/50\n",
      "25/25 [==============================] - 0s 4ms/step - loss: 0.6673 - acc: 0.5366 - val_loss: 0.6253 - val_acc: 0.5337\n",
      "Epoch 3/50\n",
      "25/25 [==============================] - 0s 4ms/step - loss: 0.6299 - acc: 0.5326 - val_loss: 0.6018 - val_acc: 0.5297\n",
      "Epoch 4/50\n",
      "25/25 [==============================] - 0s 4ms/step - loss: 0.5929 - acc: 0.5252 - val_loss: 0.5790 - val_acc: 0.5246\n",
      "Epoch 5/50\n",
      "25/25 [==============================] - 0s 4ms/step - loss: 0.5792 - acc: 0.5225 - val_loss: 0.5576 - val_acc: 0.5156\n",
      "Epoch 6/50\n",
      "25/25 [==============================] - 0s 4ms/step - loss: 0.5747 - acc: 0.5139 - val_loss: 0.5380 - val_acc: 0.5067\n",
      "Epoch 7/50\n",
      "25/25 [==============================] - 0s 3ms/step - loss: 0.5401 - acc: 0.5095 - val_loss: 0.5204 - val_acc: 0.4970\n",
      "Epoch 8/50\n",
      "25/25 [==============================] - 0s 4ms/step - loss: 0.5336 - acc: 0.4968 - val_loss: 0.5017 - val_acc: 0.4873\n",
      "Epoch 9/50\n",
      "25/25 [==============================] - 0s 4ms/step - loss: 0.5010 - acc: 0.4913 - val_loss: 0.4864 - val_acc: 0.4803\n",
      "Epoch 10/50\n",
      "25/25 [==============================] - 0s 4ms/step - loss: 0.4825 - acc: 0.4837 - val_loss: 0.4743 - val_acc: 0.4734\n",
      "Epoch 11/50\n",
      "25/25 [==============================] - 0s 4ms/step - loss: 0.4912 - acc: 0.4778 - val_loss: 0.4658 - val_acc: 0.4672\n",
      "Epoch 12/50\n",
      "25/25 [==============================] - 0s 3ms/step - loss: 0.4505 - acc: 0.4749 - val_loss: 0.4585 - val_acc: 0.4632\n",
      "Epoch 13/50\n",
      "25/25 [==============================] - 0s 4ms/step - loss: 0.4506 - acc: 0.4666 - val_loss: 0.4514 - val_acc: 0.4615\n",
      "Epoch 14/50\n",
      "25/25 [==============================] - 0s 4ms/step - loss: 0.4489 - acc: 0.4704 - val_loss: 0.4467 - val_acc: 0.4598\n",
      "Epoch 15/50\n",
      "25/25 [==============================] - 0s 4ms/step - loss: 0.4633 - acc: 0.4670 - val_loss: 0.4455 - val_acc: 0.4600\n",
      "Epoch 16/50\n",
      "25/25 [==============================] - 0s 4ms/step - loss: 0.4411 - acc: 0.4684 - val_loss: 0.4450 - val_acc: 0.4619\n",
      "Epoch 17/50\n",
      "25/25 [==============================] - 0s 3ms/step - loss: 0.4381 - acc: 0.4669 - val_loss: 0.4439 - val_acc: 0.4641\n",
      "Epoch 18/50\n",
      "25/25 [==============================] - 0s 4ms/step - loss: 0.4481 - acc: 0.4682 - val_loss: 0.4428 - val_acc: 0.4646\n",
      "Epoch 19/50\n",
      "25/25 [==============================] - 0s 3ms/step - loss: 0.4536 - acc: 0.4688 - val_loss: 0.4434 - val_acc: 0.4660\n",
      "Epoch 20/50\n",
      "25/25 [==============================] - 0s 4ms/step - loss: 0.4420 - acc: 0.4668 - val_loss: 0.4447 - val_acc: 0.4684\n",
      "Epoch 21/50\n",
      "25/25 [==============================] - 0s 4ms/step - loss: 0.4367 - acc: 0.4689 - val_loss: 0.4434 - val_acc: 0.4682\n",
      "Epoch 22/50\n",
      "25/25 [==============================] - 0s 4ms/step - loss: 0.4518 - acc: 0.4699 - val_loss: 0.4424 - val_acc: 0.4678\n",
      "Epoch 23/50\n",
      "25/25 [==============================] - 0s 4ms/step - loss: 0.4229 - acc: 0.4713 - val_loss: 0.4424 - val_acc: 0.4681\n",
      "Epoch 24/50\n",
      "25/25 [==============================] - 0s 4ms/step - loss: 0.4406 - acc: 0.4686 - val_loss: 0.4415 - val_acc: 0.4677\n",
      "Epoch 25/50\n",
      "25/25 [==============================] - 0s 3ms/step - loss: 0.4473 - acc: 0.4699 - val_loss: 0.4414 - val_acc: 0.4688\n",
      "Epoch 26/50\n",
      "25/25 [==============================] - 0s 3ms/step - loss: 0.4529 - acc: 0.4718 - val_loss: 0.4405 - val_acc: 0.4693\n",
      "Epoch 27/50\n",
      "25/25 [==============================] - 0s 4ms/step - loss: 0.4395 - acc: 0.4732 - val_loss: 0.4400 - val_acc: 0.4689\n",
      "Epoch 28/50\n",
      "25/25 [==============================] - 0s 3ms/step - loss: 0.4417 - acc: 0.4727 - val_loss: 0.4401 - val_acc: 0.4692\n",
      "Epoch 29/50\n",
      "25/25 [==============================] - 0s 4ms/step - loss: 0.4423 - acc: 0.4731 - val_loss: 0.4402 - val_acc: 0.4693\n",
      "Epoch 30/50\n",
      "25/25 [==============================] - 0s 4ms/step - loss: 0.4401 - acc: 0.4711 - val_loss: 0.4417 - val_acc: 0.4715\n",
      "Epoch 31/50\n",
      "25/25 [==============================] - 0s 4ms/step - loss: 0.4359 - acc: 0.4745 - val_loss: 0.4410 - val_acc: 0.4730\n",
      "Epoch 32/50\n",
      "25/25 [==============================] - 0s 4ms/step - loss: 0.4456 - acc: 0.4764 - val_loss: 0.4392 - val_acc: 0.4714\n",
      "Epoch 33/50\n",
      "25/25 [==============================] - 0s 4ms/step - loss: 0.4450 - acc: 0.4728 - val_loss: 0.4389 - val_acc: 0.4713\n",
      "Epoch 34/50\n",
      "25/25 [==============================] - 0s 4ms/step - loss: 0.4465 - acc: 0.4727 - val_loss: 0.4401 - val_acc: 0.4722\n",
      "Epoch 35/50\n",
      "25/25 [==============================] - 0s 4ms/step - loss: 0.4309 - acc: 0.4733 - val_loss: 0.4408 - val_acc: 0.4719\n",
      "Epoch 36/50\n",
      "25/25 [==============================] - 0s 4ms/step - loss: 0.4422 - acc: 0.4745 - val_loss: 0.4396 - val_acc: 0.4705\n",
      "Epoch 37/50\n",
      "25/25 [==============================] - 0s 4ms/step - loss: 0.4412 - acc: 0.4744 - val_loss: 0.4379 - val_acc: 0.4693\n",
      "Epoch 38/50\n",
      "25/25 [==============================] - 0s 3ms/step - loss: 0.4258 - acc: 0.4713 - val_loss: 0.4377 - val_acc: 0.4691\n",
      "Epoch 39/50\n",
      "25/25 [==============================] - 0s 4ms/step - loss: 0.4266 - acc: 0.4708 - val_loss: 0.4385 - val_acc: 0.4692\n",
      "Epoch 40/50\n",
      "25/25 [==============================] - 0s 3ms/step - loss: 0.4324 - acc: 0.4724 - val_loss: 0.4379 - val_acc: 0.4685\n",
      "Epoch 41/50\n",
      "25/25 [==============================] - 0s 4ms/step - loss: 0.4206 - acc: 0.4714 - val_loss: 0.4373 - val_acc: 0.4671\n",
      "Epoch 42/50\n",
      "25/25 [==============================] - 0s 4ms/step - loss: 0.4264 - acc: 0.4719 - val_loss: 0.4371 - val_acc: 0.4662\n",
      "Epoch 43/50\n",
      "25/25 [==============================] - 0s 3ms/step - loss: 0.4371 - acc: 0.4698 - val_loss: 0.4385 - val_acc: 0.4674\n",
      "Epoch 44/50\n",
      "25/25 [==============================] - 0s 3ms/step - loss: 0.4286 - acc: 0.4728 - val_loss: 0.4388 - val_acc: 0.4682\n",
      "Epoch 45/50\n",
      "25/25 [==============================] - 0s 4ms/step - loss: 0.4445 - acc: 0.4708 - val_loss: 0.4374 - val_acc: 0.4674\n",
      "Epoch 46/50\n",
      "25/25 [==============================] - 0s 3ms/step - loss: 0.4385 - acc: 0.4701 - val_loss: 0.4367 - val_acc: 0.4678\n",
      "Epoch 47/50\n",
      "25/25 [==============================] - 0s 4ms/step - loss: 0.4449 - acc: 0.4752 - val_loss: 0.4371 - val_acc: 0.4689\n",
      "Epoch 48/50\n",
      "25/25 [==============================] - 0s 4ms/step - loss: 0.4430 - acc: 0.4778 - val_loss: 0.4369 - val_acc: 0.4694\n",
      "Epoch 49/50\n",
      "25/25 [==============================] - 0s 4ms/step - loss: 0.4368 - acc: 0.4750 - val_loss: 0.4370 - val_acc: 0.4706\n",
      "Epoch 50/50\n",
      "25/25 [==============================] - 0s 3ms/step - loss: 0.4300 - acc: 0.4761 - val_loss: 0.4368 - val_acc: 0.4705\n"
     ]
    },
    {
     "name": "stderr",
     "output_type": "stream",
     "text": [
      "No handles with labels found to put in legend.\n"
     ]
    },
    {
     "data": {
      "text/plain": [
       "<matplotlib.legend.Legend at 0x7f5d58121a60>"
      ]
     },
     "execution_count": 26,
     "metadata": {},
     "output_type": "execute_result"
    },
    {
     "data": {
      "image/png": "[encoded data removed]",
      "text/plain": [
       "<Figure size 576x432 with 1 Axes>"
      ]
     },
     "metadata": {
      "needs_background": "light"
     },
     "output_type": "display_data"
    }
   ],
   "source": [
    "#Net Network with modified loss\n",
    "factor = 1.2\n",
    "learning_rate = 0.0002\n",
    "clf_mod = nn_classifier_mod(n_features=X_train.shape[1], theta=(0.43*factor, 0.2*factor), learning_rate=learning_rate)\n",
    "clf_mod.set_weights(weights)\n",
    "\n",
    "history = clf_mod.fit(X_train.values, Y, epochs=50, verbose=1, batch_size=1024, shuffle=True, validation_data = (X_test.values, Y_val))\n",
    "hist = history.history\n",
    "plt.figure(figsize=(8,6))\n",
    "plt.plot(hist[\"loss\"])\n",
    "plt.plot(hist[\"val_loss\"])\n",
    "plt.ylabel(\"Custom loss\")\n",
    "plt.xlabel(\"Epoch\")\n",
    "plt.title(\"Training and Validation loss - mod\")\n",
    "plt.legend()"
   ]
  },
  {
   "cell_type": "code",
   "execution_count": 27,
   "id": "41b5ead1",
   "metadata": {},
   "outputs": [
    {
     "name": "stdout",
     "output_type": "stream",
     "text": [
      "ROC AUC: 0.85\n",
      "Basline Accuracy: 75.7%\n",
      "Accuracy: 81.7%\n",
      "Precision: 71.0%\n",
      "Recall: 41.5%\n",
      "Classification reports per protected Attribute:\n",
      "\n",
      "           Protected class == race\n",
      "                      Subclass==0\n",
      "\n",
      "Accuracy: 86.3%\n",
      "Precision: 45.5%\n",
      "Recall: 44.9%\n",
      "Sampels: 619 - Positives: 77 - Correct positives: 35\n",
      "Positive rate: 12.4%\n",
      "                      Subclass==1\n",
      "\n",
      "Accuracy: 81.2%\n",
      "Precision: 73.4%\n",
      "Recall: 41.3%\n",
      "Sampels: 5569 - Positives: 801 - Correct positives: 588\n",
      "Positive rate: 14.4%\n",
      "\n",
      "           Protected class == sex\n",
      "                      Subclass==0\n",
      "\n",
      "Accuracy: 89.1%\n",
      "Precision: 46.2%\n",
      "Recall: 73.3%\n",
      "Sampels: 2112 - Positives: 327 - Correct positives: 151\n",
      "Positive rate: 15.5%\n",
      "                      Subclass==1\n",
      "\n",
      "Accuracy: 77.9%\n",
      "Precision: 85.7%\n",
      "Recall: 36.4%\n",
      "Sampels: 4076 - Positives: 551 - Correct positives: 472\n",
      "Positive rate: 13.5%\n"
     ]
    }
   ],
   "source": [
    "# predict on test set\n",
    "y_pred = pd.Series(clf_mod.predict(X_test.values).ravel(), index=y_test.index)\n",
    "score_report(y_pred, y_test)\n",
    "        \n",
    "        "
   ]
  },
  {
   "cell_type": "code",
   "execution_count": 28,
   "id": "044a0f28",
   "metadata": {},
   "outputs": [
    {
     "name": "stdout",
     "output_type": "stream",
     "text": [
      "The classifier satisfies the following %p-rules:\n",
      "\tgiven attribute race; 86%-rule\n",
      "\tgiven attribute sex;  87%-rule\n"
     ]
    },
    {
     "data": {
      "image/png": "[encoded data removed]",
      "text/plain": [
       "<Figure size 720x288 with 2 Axes>"
      ]
     },
     "metadata": {
      "needs_background": "light"
     },
     "output_type": "display_data"
    }
   ],
   "source": [
    "fig = plot_distributions(y_pred, Z_test)\n",
    "print(\"The classifier satisfies the following %p-rules:\")\n",
    "print(f\"\\tgiven attribute race; {p_rule(y_pred, Z_test['race']):.0f}%-rule\")\n",
    "print(f\"\\tgiven attribute sex;  {p_rule(y_pred, Z_test['sex']):.0f}%-rule\")"
   ]
  },
  {
   "cell_type": "code",
   "execution_count": 29,
   "id": "af1255b0",
   "metadata": {},
   "outputs": [
    {
     "data": {
      "image/png": "[encoded data removed]",
      "text/plain": [
       "<Figure size 432x288 with 1 Axes>"
      ]
     },
     "metadata": {
      "needs_background": "light"
     },
     "output_type": "display_data"
    },
    {
     "name": "stdout",
     "output_type": "stream",
     "text": [
      "0.11115101454480159\n",
      "0.5181550539744848\n"
     ]
    },
    {
     "data": {
      "image/png": "[encoded data removed]",
      "text/plain": [
       "<Figure size 432x288 with 1 Axes>"
      ]
     },
     "metadata": {
      "needs_background": "light"
     },
     "output_type": "display_data"
    }
   ],
   "source": [
    "title=\"sex\"\n",
    "plt.title(title)\n",
    "plt.hist(y_pred[Z_test[title]==0],25,(0,1),alpha=0.4,color=\"b\",density=1)\n",
    "plt.hist(y_pred[Z_test[title]==1],25,(0,1),alpha=0.4,color=\"r\",density=1)\n",
    "plt.show()\n",
    "title=\"race\"\n",
    "plt.title(title)\n",
    "plt.hist(y_pred[Z_test[title]==0],25,(0,1),alpha=0.4,color=\"b\",density=1)\n",
    "plt.hist(y_pred[Z_test[title]==1],25,(0,1),alpha=0.4,color=\"r\",density=1)\n",
    "print(len(y_pred[Z_test[\"race\"]==0])/len(y_pred[Z_test[\"race\"]==1]))\n",
    "print(len(y_pred[Z_test[\"sex\"]==0])/len(y_pred[Z_test[\"sex\"]==1]))"
   ]
  },
  {
   "cell_type": "code",
   "execution_count": 30,
   "id": "106214ad",
   "metadata": {},
   "outputs": [
    {
     "name": "stdout",
     "output_type": "stream",
     "text": [
      "The classifier sattisfies the following equalized odds epsilon:\n",
      "\tgiven attribute race; 3.6%\n",
      "\tgiven attribute sex;  36.9%\n"
     ]
    }
   ],
   "source": [
    "print(\"The classifier sattisfies the following equalized odds epsilon:\")\n",
    "print(f\"\\tgiven attribute race; {equalized_odds(y_pred, y_test, Z_test['race']):.1f}%\")\n",
    "print(f\"\\tgiven attribute sex;  {equalized_odds(y_pred, y_test, Z_test['sex']):.1f}%\")"
   ]
  },
  {
   "cell_type": "markdown",
   "id": "graphic-finder",
   "metadata": {},
   "source": [
    "# Performance and Fairness 3 - BCE + Demographic Parity network"
   ]
  },
  {
   "cell_type": "code",
   "execution_count": 31,
   "id": "champion-canada",
   "metadata": {},
   "outputs": [
    {
     "data": {
      "text/plain": [
       "0.7574337427278603"
      ]
     },
     "execution_count": 31,
     "metadata": {},
     "output_type": "execute_result"
    }
   ],
   "source": [
    "1-y_test.sum()/len(y_test)"
   ]
  },
  {
   "cell_type": "markdown",
   "id": "blank-target",
   "metadata": {},
   "source": [
    "Another cost function, this time based on the demographic parity, which is very similair to the desparate impact."
   ]
  },
  {
   "cell_type": "code",
   "execution_count": 32,
   "id": "human-garbage",
   "metadata": {},
   "outputs": [],
   "source": [
    "bce = tf.keras.losses.BinaryCrossentropy()\n",
    "\n",
    "def parity_loss(theta):\n",
    "    \"\"\"\n",
    "    Using this wrapper to return the internal loss function allows for easy editing of \n",
    "    the otherwise high level Keras/Tensorflow model fitting objects, which expect to pass only (y_true, y_pred)\n",
    "    \n",
    "    Parameters\n",
    "    ----------\n",
    "    Theta - tuple\n",
    "        weights of the DI_loss factors in the combined loss function\n",
    "    \"\"\"\n",
    "    def DP_loss_z(y_true, y_pred, z):\n",
    "        \"\"\"\n",
    "        Custom loss function based on the p-% rule indirectly, uses P(Y|Z)\n",
    "        \"\"\"\n",
    "        y_pred_1, y_pred_0 = y_pred*z, y_pred*(1-z)\n",
    "        custom_loss = tf.norm(tf.reduce_mean(y_pred_1) - tf.reduce_sum(z)/tf.reduce_sum((1-z))*tf.reduce_mean(y_pred_0))\n",
    "        return custom_loss\n",
    "    \n",
    "    def final_loss(y, y_pred):\n",
    "        y_true, z_race, z_sex = y[:,0], y[:,1], y[:,2]\n",
    "        y_pred = tf.transpose(y_pred)\n",
    "        return theta[0]*bce(y_true, y_pred) + theta[1]*DP_loss_z(y_true, y_pred,z_race) + theta[2]*DP_loss_z(y_true, y_pred, z_sex)\n",
    "    return final_loss"
   ]
  },
  {
   "cell_type": "code",
   "execution_count": 33,
   "id": "liberal-clock",
   "metadata": {
    "scrolled": false
   },
   "outputs": [
    {
     "name": "stdout",
     "output_type": "stream",
     "text": [
      "Epoch 1/60\n",
      "WARNING:tensorflow:AutoGraph could not transform <function custom_loss2.<locals>.final_loss at 0x7f5d48637ca0> and will run it as-is.\n",
      "Please report this to the TensorFlow team. When filing the bug, set the verbosity to 10 (on Linux, `export AUTOGRAPH_VERBOSITY=10`) and attach the full output.\n",
      "Cause: module 'gast' has no attribute 'Index'\n",
      "To silence this warning, decorate the function with @tf.autograph.experimental.do_not_convert\n",
      "WARNING: AutoGraph could not transform <function custom_loss2.<locals>.final_loss at 0x7f5d48637ca0> and will run it as-is.\n",
      "Please report this to the TensorFlow team. When filing the bug, set the verbosity to 10 (on Linux, `export AUTOGRAPH_VERBOSITY=10`) and attach the full output.\n",
      "Cause: module 'gast' has no attribute 'Index'\n",
      "To silence this warning, decorate the function with @tf.autograph.experimental.do_not_convert\n",
      "25/25 [==============================] - 1s 7ms/step - loss: 0.8346 - acc: 0.5397 - val_loss: 0.6398 - val_acc: 0.4113\n",
      "Epoch 2/60\n",
      "25/25 [==============================] - 0s 4ms/step - loss: 0.6229 - acc: 0.4114 - val_loss: 0.5811 - val_acc: 0.4006\n",
      "Epoch 3/60\n",
      "25/25 [==============================] - 0s 4ms/step - loss: 0.5740 - acc: 0.3956 - val_loss: 0.5444 - val_acc: 0.3999\n",
      "Epoch 4/60\n",
      "25/25 [==============================] - 0s 3ms/step - loss: 0.5517 - acc: 0.3974 - val_loss: 0.5168 - val_acc: 0.4009\n",
      "Epoch 5/60\n",
      "25/25 [==============================] - 0s 4ms/step - loss: 0.5171 - acc: 0.4011 - val_loss: 0.4995 - val_acc: 0.4022\n",
      "Epoch 6/60\n",
      "25/25 [==============================] - 0s 3ms/step - loss: 0.5071 - acc: 0.4040 - val_loss: 0.4878 - val_acc: 0.4047\n",
      "Epoch 7/60\n",
      "25/25 [==============================] - 0s 4ms/step - loss: 0.5000 - acc: 0.4092 - val_loss: 0.4806 - val_acc: 0.4095\n",
      "Epoch 8/60\n",
      "25/25 [==============================] - 0s 4ms/step - loss: 0.4881 - acc: 0.4124 - val_loss: 0.4755 - val_acc: 0.4218\n",
      "Epoch 9/60\n",
      "25/25 [==============================] - 0s 3ms/step - loss: 0.4726 - acc: 0.4187 - val_loss: 0.4708 - val_acc: 0.4311\n",
      "Epoch 10/60\n",
      "25/25 [==============================] - 0s 4ms/step - loss: 0.4707 - acc: 0.4249 - val_loss: 0.4666 - val_acc: 0.4347\n",
      "Epoch 11/60\n",
      "25/25 [==============================] - 0s 3ms/step - loss: 0.4813 - acc: 0.4304 - val_loss: 0.4631 - val_acc: 0.4420\n",
      "Epoch 12/60\n",
      "25/25 [==============================] - 0s 4ms/step - loss: 0.4632 - acc: 0.4387 - val_loss: 0.4590 - val_acc: 0.4495\n",
      "Epoch 13/60\n",
      "25/25 [==============================] - 0s 3ms/step - loss: 0.4707 - acc: 0.4397 - val_loss: 0.4572 - val_acc: 0.4539\n",
      "Epoch 14/60\n",
      "25/25 [==============================] - 0s 3ms/step - loss: 0.4629 - acc: 0.4509 - val_loss: 0.4550 - val_acc: 0.4502\n",
      "Epoch 15/60\n",
      "25/25 [==============================] - 0s 4ms/step - loss: 0.4743 - acc: 0.4440 - val_loss: 0.4558 - val_acc: 0.4440\n",
      "Epoch 16/60\n",
      "25/25 [==============================] - 0s 3ms/step - loss: 0.4587 - acc: 0.4408 - val_loss: 0.4538 - val_acc: 0.4480\n",
      "Epoch 17/60\n",
      "25/25 [==============================] - 0s 3ms/step - loss: 0.4594 - acc: 0.4431 - val_loss: 0.4508 - val_acc: 0.4526\n",
      "Epoch 18/60\n",
      "25/25 [==============================] - 0s 4ms/step - loss: 0.4614 - acc: 0.4481 - val_loss: 0.4493 - val_acc: 0.4594\n",
      "Epoch 19/60\n",
      "25/25 [==============================] - 0s 4ms/step - loss: 0.4526 - acc: 0.4529 - val_loss: 0.4474 - val_acc: 0.4607\n",
      "Epoch 20/60\n",
      "25/25 [==============================] - 0s 3ms/step - loss: 0.4463 - acc: 0.4563 - val_loss: 0.4479 - val_acc: 0.4614\n",
      "Epoch 21/60\n",
      "25/25 [==============================] - 0s 3ms/step - loss: 0.4464 - acc: 0.4501 - val_loss: 0.4487 - val_acc: 0.4591\n",
      "Epoch 22/60\n",
      "25/25 [==============================] - 0s 4ms/step - loss: 0.4558 - acc: 0.4546 - val_loss: 0.4489 - val_acc: 0.4628\n",
      "Epoch 23/60\n",
      "25/25 [==============================] - 0s 4ms/step - loss: 0.4420 - acc: 0.4543 - val_loss: 0.4458 - val_acc: 0.4583\n",
      "Epoch 24/60\n",
      "25/25 [==============================] - 0s 3ms/step - loss: 0.4433 - acc: 0.4528 - val_loss: 0.4461 - val_acc: 0.4643\n",
      "Epoch 25/60\n",
      "25/25 [==============================] - 0s 4ms/step - loss: 0.4511 - acc: 0.4597 - val_loss: 0.4434 - val_acc: 0.4617\n",
      "Epoch 26/60\n",
      "25/25 [==============================] - 0s 4ms/step - loss: 0.4579 - acc: 0.4565 - val_loss: 0.4412 - val_acc: 0.4614\n",
      "Epoch 27/60\n",
      "25/25 [==============================] - 0s 3ms/step - loss: 0.4434 - acc: 0.4576 - val_loss: 0.4396 - val_acc: 0.4654\n",
      "Epoch 28/60\n",
      "25/25 [==============================] - 0s 3ms/step - loss: 0.4449 - acc: 0.4614 - val_loss: 0.4402 - val_acc: 0.4632\n",
      "Epoch 29/60\n",
      "25/25 [==============================] - 0s 3ms/step - loss: 0.4409 - acc: 0.4621 - val_loss: 0.4412 - val_acc: 0.4686\n",
      "Epoch 30/60\n",
      "25/25 [==============================] - 0s 3ms/step - loss: 0.4463 - acc: 0.4661 - val_loss: 0.4400 - val_acc: 0.4671\n",
      "Epoch 31/60\n",
      "25/25 [==============================] - 0s 3ms/step - loss: 0.4365 - acc: 0.4619 - val_loss: 0.4367 - val_acc: 0.4660\n",
      "Epoch 32/60\n",
      "25/25 [==============================] - 0s 3ms/step - loss: 0.4394 - acc: 0.4613 - val_loss: 0.4347 - val_acc: 0.4675\n",
      "Epoch 33/60\n",
      "25/25 [==============================] - 0s 4ms/step - loss: 0.4422 - acc: 0.4619 - val_loss: 0.4342 - val_acc: 0.4605\n",
      "Epoch 34/60\n",
      "25/25 [==============================] - 0s 3ms/step - loss: 0.4501 - acc: 0.4591 - val_loss: 0.4371 - val_acc: 0.4718\n",
      "Epoch 35/60\n",
      "25/25 [==============================] - 0s 3ms/step - loss: 0.4250 - acc: 0.4641 - val_loss: 0.4358 - val_acc: 0.4685\n",
      "Epoch 36/60\n",
      "25/25 [==============================] - 0s 3ms/step - loss: 0.4410 - acc: 0.4638 - val_loss: 0.4359 - val_acc: 0.4743\n",
      "Epoch 37/60\n",
      "25/25 [==============================] - 0s 3ms/step - loss: 0.4360 - acc: 0.4693 - val_loss: 0.4365 - val_acc: 0.4654\n",
      "Epoch 38/60\n",
      "25/25 [==============================] - 0s 3ms/step - loss: 0.4245 - acc: 0.4644 - val_loss: 0.4350 - val_acc: 0.4672\n",
      "Epoch 39/60\n",
      "25/25 [==============================] - 0s 3ms/step - loss: 0.4190 - acc: 0.4636 - val_loss: 0.4361 - val_acc: 0.4717\n",
      "Epoch 40/60\n",
      "25/25 [==============================] - 0s 4ms/step - loss: 0.4317 - acc: 0.4649 - val_loss: 0.4346 - val_acc: 0.4672\n",
      "Epoch 41/60\n",
      "25/25 [==============================] - 0s 4ms/step - loss: 0.4161 - acc: 0.4653 - val_loss: 0.4354 - val_acc: 0.4727\n",
      "Epoch 42/60\n",
      "25/25 [==============================] - 0s 3ms/step - loss: 0.4263 - acc: 0.4706 - val_loss: 0.4337 - val_acc: 0.4742\n",
      "Epoch 43/60\n",
      "25/25 [==============================] - 0s 3ms/step - loss: 0.4265 - acc: 0.4698 - val_loss: 0.4342 - val_acc: 0.4731\n",
      "Epoch 44/60\n",
      "25/25 [==============================] - 0s 4ms/step - loss: 0.4200 - acc: 0.4704 - val_loss: 0.4325 - val_acc: 0.4737\n",
      "Epoch 45/60\n",
      "25/25 [==============================] - 0s 4ms/step - loss: 0.4331 - acc: 0.4650 - val_loss: 0.4317 - val_acc: 0.4707\n",
      "Epoch 46/60\n",
      "25/25 [==============================] - 0s 4ms/step - loss: 0.4390 - acc: 0.4680 - val_loss: 0.4319 - val_acc: 0.4722\n",
      "Epoch 47/60\n",
      "25/25 [==============================] - 0s 3ms/step - loss: 0.4349 - acc: 0.4692 - val_loss: 0.4324 - val_acc: 0.4667\n",
      "Epoch 48/60\n",
      "25/25 [==============================] - 0s 3ms/step - loss: 0.4387 - acc: 0.4668 - val_loss: 0.4316 - val_acc: 0.4692\n",
      "Epoch 49/60\n",
      "25/25 [==============================] - 0s 4ms/step - loss: 0.4349 - acc: 0.4679 - val_loss: 0.4323 - val_acc: 0.4702\n",
      "Epoch 50/60\n",
      "25/25 [==============================] - 0s 4ms/step - loss: 0.4224 - acc: 0.4677 - val_loss: 0.4317 - val_acc: 0.4671\n",
      "Epoch 51/60\n",
      "25/25 [==============================] - 0s 3ms/step - loss: 0.4211 - acc: 0.4653 - val_loss: 0.4322 - val_acc: 0.4757\n",
      "Epoch 52/60\n",
      "25/25 [==============================] - 0s 3ms/step - loss: 0.4344 - acc: 0.4737 - val_loss: 0.4302 - val_acc: 0.4700\n",
      "Epoch 53/60\n",
      "25/25 [==============================] - 0s 3ms/step - loss: 0.4337 - acc: 0.4635 - val_loss: 0.4322 - val_acc: 0.4690\n",
      "Epoch 54/60\n",
      "25/25 [==============================] - 0s 3ms/step - loss: 0.4295 - acc: 0.4668 - val_loss: 0.4329 - val_acc: 0.4751\n",
      "Epoch 55/60\n",
      "25/25 [==============================] - 0s 4ms/step - loss: 0.4157 - acc: 0.4683 - val_loss: 0.4313 - val_acc: 0.4634\n",
      "Epoch 56/60\n",
      "25/25 [==============================] - 0s 4ms/step - loss: 0.4201 - acc: 0.4671 - val_loss: 0.4324 - val_acc: 0.4709\n",
      "Epoch 57/60\n"
     ]
    },
    {
     "name": "stdout",
     "output_type": "stream",
     "text": [
      "25/25 [==============================] - 0s 4ms/step - loss: 0.4388 - acc: 0.4695 - val_loss: 0.4329 - val_acc: 0.4730\n",
      "Epoch 58/60\n",
      "25/25 [==============================] - 0s 4ms/step - loss: 0.4207 - acc: 0.4757 - val_loss: 0.4326 - val_acc: 0.4752\n",
      "Epoch 59/60\n",
      "25/25 [==============================] - 0s 4ms/step - loss: 0.4286 - acc: 0.4678 - val_loss: 0.4316 - val_acc: 0.4697\n",
      "Epoch 60/60\n",
      "25/25 [==============================] - 0s 3ms/step - loss: 0.4261 - acc: 0.4658 - val_loss: 0.4309 - val_acc: 0.4716\n"
     ]
    },
    {
     "data": {
      "text/plain": [
       "<matplotlib.legend.Legend at 0x7f5d885a4af0>"
      ]
     },
     "execution_count": 33,
     "metadata": {},
     "output_type": "execute_result"
    },
    {
     "data": {
      "image/png": "[encoded data removed]",
      "text/plain": [
       "<Figure size 576x432 with 1 Axes>"
      ]
     },
     "metadata": {
      "needs_background": "light"
     },
     "output_type": "display_data"
    }
   ],
   "source": [
    "tf.random.set_seed(\n",
    "    94\n",
    ")\n",
    "\n",
    "def nn_classifier(n_features,theta):\n",
    "    inputs = Input(shape=(n_features,))\n",
    "    dense1 = Dense(32, activation='relu')(inputs)\n",
    "    dropout1 = Dropout(0.2)(dense1)\n",
    "    dense2 = Dense(32, activation='relu')(dropout1)\n",
    "    dropout2 = Dropout(0.2)(dense2)\n",
    "    dense3 = Dense(32, activation=\"relu\")(dropout2)\n",
    "    dropout3 = Dropout(0.2)(dense3)\n",
    "    outputs = Dense(1, activation='sigmoid')(dropout3)\n",
    "    model = Model(inputs=[inputs], outputs=[outputs])\n",
    "    model.compile(loss=parity_loss(theta), optimizer='adam',metrics=tf.keras.metrics.BinaryAccuracy(\n",
    "    name='acc', dtype=None, threshold=0.5))\n",
    "    return model\n",
    "\n",
    "# initialise NeuralNet Classifier\n",
    "factor=1\n",
    "clf = nn_classifier(n_features=X_train.shape[1],theta=(1, factor*2,factor*1))\n",
    "\n",
    "# train on train set\n",
    "Y = np.append(\n",
    "    np.reshape(y_train.values, (y_train.shape[0],1)), \n",
    "    Z_train.values, axis=1\n",
    "    )\n",
    "Y_val = np.append(\n",
    "    np.reshape(y_test.values, (y_test.shape[0],1)),\n",
    "    Z_test.values, axis=1\n",
    "    )\n",
    "\n",
    "history = clf.fit(X_train.values, Y, epochs=60, verbose=1, batch_size=1024, shuffle=True, validation_data = (X_test.values, Y_val))\n",
    "hist = history.history\n",
    "plt.figure(figsize=(8,6))\n",
    "plt.plot(hist[\"loss\"], label=\"training\")\n",
    "plt.plot(hist[\"val_loss\"], label=\"validation\")\n",
    "plt.ylabel(\"Custom loss\")\n",
    "plt.xlabel(\"Epoch\")\n",
    "plt.title(\"Training and Validation loss\")\n",
    "plt.legend()"
   ]
  },
  {
   "cell_type": "code",
   "execution_count": 34,
   "id": "grateful-examination",
   "metadata": {},
   "outputs": [
    {
     "name": "stdout",
     "output_type": "stream",
     "text": [
      "ROC AUC: 0.86\n",
      "Basline Accuracy: 75.7%\n",
      "Accuracy: 82.3%\n",
      "Precision: 76.4%\n",
      "Recall: 39.1%\n",
      "Classification reports per protected Attribute:\n",
      "\n",
      "           Protected class == race\n",
      "                      Subclass==0\n",
      "\n",
      "Accuracy: 88.9%\n",
      "Precision: 59.6%\n",
      "Recall: 35.9%\n",
      "Sampels: 619 - Positives: 47 - Correct positives: 28\n",
      "Positive rate: 7.6%\n",
      "                      Subclass==1\n",
      "\n",
      "Accuracy: 81.6%\n",
      "Precision: 77.5%\n",
      "Recall: 39.3%\n",
      "Sampels: 5569 - Positives: 721 - Correct positives: 559\n",
      "Positive rate: 12.9%\n",
      "\n",
      "           Protected class == sex\n",
      "                      Subclass==0\n",
      "\n",
      "Accuracy: 91.3%\n",
      "Precision: 54.3%\n",
      "Recall: 67.5%\n",
      "Sampels: 2112 - Positives: 256 - Correct positives: 139\n",
      "Positive rate: 12.1%\n",
      "                      Subclass==1\n",
      "\n",
      "Accuracy: 77.6%\n",
      "Precision: 87.5%\n",
      "Recall: 34.6%\n",
      "Sampels: 4076 - Positives: 512 - Correct positives: 448\n",
      "Positive rate: 12.6%\n"
     ]
    }
   ],
   "source": [
    "# predict on test set\n",
    "y_pred = pd.Series(clf.predict(X_test.values).ravel(), index=y_test.index)\n",
    "score_report(y_pred, y_test)"
   ]
  },
  {
   "cell_type": "code",
   "execution_count": 35,
   "id": "fatty-mason",
   "metadata": {},
   "outputs": [
    {
     "name": "stdout",
     "output_type": "stream",
     "text": [
      "The classifier satisfies the following %p-rules:\n",
      "\tgiven attribute race; 59%-rule\n",
      "\tgiven attribute sex;  96%-rule\n"
     ]
    },
    {
     "data": {
      "image/png": "[encoded data removed]",
      "text/plain": [
       "<Figure size 720x288 with 2 Axes>"
      ]
     },
     "metadata": {
      "needs_background": "light"
     },
     "output_type": "display_data"
    }
   ],
   "source": [
    "fig = plot_distributions(y_pred, Z_test)\n",
    "print(\"The classifier satisfies the following %p-rules:\")\n",
    "print(f\"\\tgiven attribute race; {p_rule(y_pred, Z_test['race']):.0f}%-rule\")\n",
    "print(f\"\\tgiven attribute sex;  {p_rule(y_pred, Z_test['sex']):.0f}%-rule\")"
   ]
  },
  {
   "cell_type": "code",
   "execution_count": 36,
   "id": "authorized-disease",
   "metadata": {},
   "outputs": [
    {
     "name": "stdout",
     "output_type": "stream",
     "text": [
      "The classifier sattisfies the following equalized odds epsilon:\n",
      "\tgiven attribute race; 3.4%\n",
      "\tgiven attribute sex;  32.9%\n"
     ]
    }
   ],
   "source": [
    "print(\"The classifier sattisfies the following equalized odds epsilon:\")\n",
    "print(f\"\\tgiven attribute race; {equalized_odds(y_pred, y_test, Z_test['race']):.1f}%\")\n",
    "print(f\"\\tgiven attribute sex;  {equalized_odds(y_pred, y_test, Z_test['sex']):.1f}%\")"
   ]
  },
  {
   "cell_type": "markdown",
   "id": "8a287482",
   "metadata": {},
   "source": [
    "## BCE + Demographic parity network 2: Regular training followed by modified loss function"
   ]
  },
  {
   "cell_type": "code",
   "execution_count": 37,
   "id": "2b827b11",
   "metadata": {},
   "outputs": [
    {
     "name": "stdout",
     "output_type": "stream",
     "text": [
      "Epoch 1/130\n",
      "WARNING:tensorflow:AutoGraph could not transform <function custom_loss2.<locals>.final_loss at 0x7f5d9b166430> and will run it as-is.\n",
      "Please report this to the TensorFlow team. When filing the bug, set the verbosity to 10 (on Linux, `export AUTOGRAPH_VERBOSITY=10`) and attach the full output.\n",
      "Cause: module 'gast' has no attribute 'Index'\n",
      "To silence this warning, decorate the function with @tf.autograph.experimental.do_not_convert\n",
      "WARNING: AutoGraph could not transform <function custom_loss2.<locals>.final_loss at 0x7f5d9b166430> and will run it as-is.\n",
      "Please report this to the TensorFlow team. When filing the bug, set the verbosity to 10 (on Linux, `export AUTOGRAPH_VERBOSITY=10`) and attach the full output.\n",
      "Cause: module 'gast' has no attribute 'Index'\n",
      "To silence this warning, decorate the function with @tf.autograph.experimental.do_not_convert\n",
      "25/25 [==============================] - 1s 8ms/step - loss: 0.4855 - acc: 0.5278 - val_loss: 0.4608 - val_acc: 0.5336\n",
      "Epoch 2/130\n",
      "25/25 [==============================] - 0s 3ms/step - loss: 0.4826 - acc: 0.5326 - val_loss: 0.4583 - val_acc: 0.5308\n",
      "Epoch 3/130\n",
      "25/25 [==============================] - 0s 4ms/step - loss: 0.4734 - acc: 0.5280 - val_loss: 0.4562 - val_acc: 0.5278\n",
      "Epoch 4/130\n",
      "25/25 [==============================] - 0s 3ms/step - loss: 0.4635 - acc: 0.5215 - val_loss: 0.4544 - val_acc: 0.5252\n",
      "Epoch 5/130\n",
      "25/25 [==============================] - 0s 4ms/step - loss: 0.4667 - acc: 0.5223 - val_loss: 0.4526 - val_acc: 0.5226\n",
      "Epoch 6/130\n",
      "25/25 [==============================] - 0s 3ms/step - loss: 0.4721 - acc: 0.5191 - val_loss: 0.4511 - val_acc: 0.5196\n",
      "Epoch 7/130\n",
      "25/25 [==============================] - 0s 4ms/step - loss: 0.4663 - acc: 0.5194 - val_loss: 0.4497 - val_acc: 0.5174\n",
      "Epoch 8/130\n",
      "25/25 [==============================] - 0s 4ms/step - loss: 0.4697 - acc: 0.5103 - val_loss: 0.4484 - val_acc: 0.5153\n",
      "Epoch 9/130\n",
      "25/25 [==============================] - 0s 4ms/step - loss: 0.4575 - acc: 0.5123 - val_loss: 0.4473 - val_acc: 0.5133\n",
      "Epoch 10/130\n",
      "25/25 [==============================] - 0s 4ms/step - loss: 0.4598 - acc: 0.5096 - val_loss: 0.4463 - val_acc: 0.5118\n",
      "Epoch 11/130\n",
      "25/25 [==============================] - 0s 4ms/step - loss: 0.4748 - acc: 0.5077 - val_loss: 0.4453 - val_acc: 0.5094\n",
      "Epoch 12/130\n",
      "25/25 [==============================] - 0s 3ms/step - loss: 0.4494 - acc: 0.5070 - val_loss: 0.4443 - val_acc: 0.5076\n",
      "Epoch 13/130\n",
      "25/25 [==============================] - 0s 3ms/step - loss: 0.4616 - acc: 0.5049 - val_loss: 0.4433 - val_acc: 0.5057\n",
      "Epoch 14/130\n",
      "25/25 [==============================] - 0s 3ms/step - loss: 0.4579 - acc: 0.5054 - val_loss: 0.4425 - val_acc: 0.5042\n",
      "Epoch 15/130\n",
      "25/25 [==============================] - 0s 4ms/step - loss: 0.4609 - acc: 0.5018 - val_loss: 0.4417 - val_acc: 0.5021\n",
      "Epoch 16/130\n",
      "25/25 [==============================] - 0s 3ms/step - loss: 0.4569 - acc: 0.5003 - val_loss: 0.4409 - val_acc: 0.5008\n",
      "Epoch 17/130\n",
      "25/25 [==============================] - 0s 4ms/step - loss: 0.4619 - acc: 0.5002 - val_loss: 0.4401 - val_acc: 0.5000\n",
      "Epoch 18/130\n",
      "25/25 [==============================] - 0s 3ms/step - loss: 0.4631 - acc: 0.4999 - val_loss: 0.4393 - val_acc: 0.4980\n",
      "Epoch 19/130\n",
      "25/25 [==============================] - 0s 3ms/step - loss: 0.4544 - acc: 0.4976 - val_loss: 0.4386 - val_acc: 0.4961\n",
      "Epoch 20/130\n",
      "25/25 [==============================] - 0s 4ms/step - loss: 0.4465 - acc: 0.4932 - val_loss: 0.4379 - val_acc: 0.4956\n",
      "Epoch 21/130\n",
      "25/25 [==============================] - 0s 3ms/step - loss: 0.4468 - acc: 0.4928 - val_loss: 0.4372 - val_acc: 0.4945\n",
      "Epoch 22/130\n",
      "25/25 [==============================] - 0s 4ms/step - loss: 0.4523 - acc: 0.4935 - val_loss: 0.4364 - val_acc: 0.4935\n",
      "Epoch 23/130\n",
      "25/25 [==============================] - 0s 3ms/step - loss: 0.4450 - acc: 0.4929 - val_loss: 0.4357 - val_acc: 0.4925\n",
      "Epoch 24/130\n",
      "25/25 [==============================] - 0s 3ms/step - loss: 0.4456 - acc: 0.4898 - val_loss: 0.4351 - val_acc: 0.4907\n",
      "Epoch 25/130\n",
      "25/25 [==============================] - 0s 3ms/step - loss: 0.4507 - acc: 0.4903 - val_loss: 0.4344 - val_acc: 0.4901\n",
      "Epoch 26/130\n",
      "25/25 [==============================] - 0s 4ms/step - loss: 0.4540 - acc: 0.4916 - val_loss: 0.4337 - val_acc: 0.4896\n",
      "Epoch 27/130\n",
      "25/25 [==============================] - 0s 3ms/step - loss: 0.4448 - acc: 0.4903 - val_loss: 0.4331 - val_acc: 0.4882\n",
      "Epoch 28/130\n",
      "25/25 [==============================] - 0s 3ms/step - loss: 0.4347 - acc: 0.4915 - val_loss: 0.4325 - val_acc: 0.4870\n",
      "Epoch 29/130\n",
      "25/25 [==============================] - 0s 4ms/step - loss: 0.4466 - acc: 0.4915 - val_loss: 0.4318 - val_acc: 0.4870\n",
      "Epoch 30/130\n",
      "25/25 [==============================] - 0s 3ms/step - loss: 0.4439 - acc: 0.4870 - val_loss: 0.4311 - val_acc: 0.4861\n",
      "Epoch 31/130\n",
      "25/25 [==============================] - 0s 4ms/step - loss: 0.4392 - acc: 0.4880 - val_loss: 0.4304 - val_acc: 0.4856\n",
      "Epoch 32/130\n",
      "25/25 [==============================] - 0s 3ms/step - loss: 0.4449 - acc: 0.4878 - val_loss: 0.4298 - val_acc: 0.4847\n",
      "Epoch 33/130\n",
      "25/25 [==============================] - 0s 3ms/step - loss: 0.4378 - acc: 0.4859 - val_loss: 0.4291 - val_acc: 0.4845\n",
      "Epoch 34/130\n",
      "25/25 [==============================] - 0s 4ms/step - loss: 0.4383 - acc: 0.4852 - val_loss: 0.4284 - val_acc: 0.4841\n",
      "Epoch 35/130\n",
      "25/25 [==============================] - 0s 3ms/step - loss: 0.4283 - acc: 0.4834 - val_loss: 0.4278 - val_acc: 0.4834\n",
      "Epoch 36/130\n",
      "25/25 [==============================] - 0s 3ms/step - loss: 0.4317 - acc: 0.4842 - val_loss: 0.4271 - val_acc: 0.4833\n",
      "Epoch 37/130\n",
      "25/25 [==============================] - 0s 3ms/step - loss: 0.4370 - acc: 0.4869 - val_loss: 0.4265 - val_acc: 0.4831\n",
      "Epoch 38/130\n",
      "25/25 [==============================] - 0s 3ms/step - loss: 0.4385 - acc: 0.4833 - val_loss: 0.4258 - val_acc: 0.4825\n",
      "Epoch 39/130\n",
      "25/25 [==============================] - 0s 3ms/step - loss: 0.4224 - acc: 0.4834 - val_loss: 0.4251 - val_acc: 0.4818\n",
      "Epoch 40/130\n",
      "25/25 [==============================] - 0s 3ms/step - loss: 0.4347 - acc: 0.4844 - val_loss: 0.4244 - val_acc: 0.4814\n",
      "Epoch 41/130\n",
      "25/25 [==============================] - 0s 3ms/step - loss: 0.4317 - acc: 0.4830 - val_loss: 0.4238 - val_acc: 0.4811\n",
      "Epoch 42/130\n",
      "25/25 [==============================] - 0s 3ms/step - loss: 0.4321 - acc: 0.4841 - val_loss: 0.4231 - val_acc: 0.4809\n",
      "Epoch 43/130\n",
      "25/25 [==============================] - 0s 3ms/step - loss: 0.4195 - acc: 0.4799 - val_loss: 0.4224 - val_acc: 0.4808\n",
      "Epoch 44/130\n",
      "25/25 [==============================] - 0s 3ms/step - loss: 0.4256 - acc: 0.4853 - val_loss: 0.4217 - val_acc: 0.4803\n",
      "Epoch 45/130\n",
      "25/25 [==============================] - 0s 3ms/step - loss: 0.4235 - acc: 0.4809 - val_loss: 0.4210 - val_acc: 0.4800\n",
      "Epoch 46/130\n",
      "25/25 [==============================] - 0s 3ms/step - loss: 0.4331 - acc: 0.4803 - val_loss: 0.4203 - val_acc: 0.4798\n",
      "Epoch 47/130\n",
      "25/25 [==============================] - 0s 4ms/step - loss: 0.4299 - acc: 0.4848 - val_loss: 0.4196 - val_acc: 0.4799\n",
      "Epoch 48/130\n",
      "25/25 [==============================] - 0s 3ms/step - loss: 0.4155 - acc: 0.4849 - val_loss: 0.4190 - val_acc: 0.4794\n",
      "Epoch 49/130\n",
      "25/25 [==============================] - 0s 3ms/step - loss: 0.4264 - acc: 0.4816 - val_loss: 0.4183 - val_acc: 0.4798\n",
      "Epoch 50/130\n",
      "25/25 [==============================] - 0s 3ms/step - loss: 0.4244 - acc: 0.4837 - val_loss: 0.4177 - val_acc: 0.4794\n",
      "Epoch 51/130\n",
      "25/25 [==============================] - 0s 3ms/step - loss: 0.4190 - acc: 0.4818 - val_loss: 0.4170 - val_acc: 0.4792\n",
      "Epoch 52/130\n",
      "25/25 [==============================] - 0s 3ms/step - loss: 0.4246 - acc: 0.4805 - val_loss: 0.4163 - val_acc: 0.4793\n",
      "Epoch 53/130\n",
      "25/25 [==============================] - 0s 3ms/step - loss: 0.4317 - acc: 0.4783 - val_loss: 0.4157 - val_acc: 0.4788\n",
      "Epoch 54/130\n",
      "25/25 [==============================] - 0s 3ms/step - loss: 0.4195 - acc: 0.4767 - val_loss: 0.4150 - val_acc: 0.4793\n",
      "Epoch 55/130\n",
      "25/25 [==============================] - 0s 3ms/step - loss: 0.4145 - acc: 0.4791 - val_loss: 0.4143 - val_acc: 0.4783\n",
      "Epoch 56/130\n"
     ]
    },
    {
     "name": "stdout",
     "output_type": "stream",
     "text": [
      "25/25 [==============================] - 0s 3ms/step - loss: 0.4196 - acc: 0.4817 - val_loss: 0.4136 - val_acc: 0.4783\n",
      "Epoch 57/130\n",
      "25/25 [==============================] - 0s 3ms/step - loss: 0.4214 - acc: 0.4807 - val_loss: 0.4130 - val_acc: 0.4780\n",
      "Epoch 58/130\n",
      "25/25 [==============================] - 0s 3ms/step - loss: 0.4140 - acc: 0.4828 - val_loss: 0.4124 - val_acc: 0.4780\n",
      "Epoch 59/130\n",
      "25/25 [==============================] - 0s 3ms/step - loss: 0.4210 - acc: 0.4763 - val_loss: 0.4117 - val_acc: 0.4775\n",
      "Epoch 60/130\n",
      "25/25 [==============================] - 0s 3ms/step - loss: 0.4209 - acc: 0.4788 - val_loss: 0.4110 - val_acc: 0.4774\n",
      "Epoch 61/130\n",
      "25/25 [==============================] - 0s 3ms/step - loss: 0.4093 - acc: 0.4794 - val_loss: 0.4107 - val_acc: 0.4768\n",
      "Epoch 62/130\n",
      "25/25 [==============================] - 0s 3ms/step - loss: 0.4206 - acc: 0.4808 - val_loss: 0.4103 - val_acc: 0.4765\n",
      "Epoch 63/130\n",
      "25/25 [==============================] - 0s 3ms/step - loss: 0.4140 - acc: 0.4787 - val_loss: 0.4101 - val_acc: 0.4761\n",
      "Epoch 64/130\n",
      "25/25 [==============================] - 0s 3ms/step - loss: 0.4106 - acc: 0.4788 - val_loss: 0.4098 - val_acc: 0.4761\n",
      "Epoch 65/130\n",
      "25/25 [==============================] - 0s 3ms/step - loss: 0.4101 - acc: 0.4772 - val_loss: 0.4096 - val_acc: 0.4754\n",
      "Epoch 66/130\n",
      "25/25 [==============================] - 0s 3ms/step - loss: 0.4136 - acc: 0.4755 - val_loss: 0.4094 - val_acc: 0.4749\n",
      "Epoch 67/130\n",
      "25/25 [==============================] - 0s 3ms/step - loss: 0.4152 - acc: 0.4773 - val_loss: 0.4093 - val_acc: 0.4747\n",
      "Epoch 68/130\n",
      "25/25 [==============================] - 0s 3ms/step - loss: 0.4209 - acc: 0.4761 - val_loss: 0.4091 - val_acc: 0.4747\n",
      "Epoch 69/130\n",
      "25/25 [==============================] - 0s 3ms/step - loss: 0.4051 - acc: 0.4770 - val_loss: 0.4088 - val_acc: 0.4750\n",
      "Epoch 70/130\n",
      "25/25 [==============================] - 0s 3ms/step - loss: 0.4066 - acc: 0.4794 - val_loss: 0.4086 - val_acc: 0.4751\n",
      "Epoch 71/130\n",
      "25/25 [==============================] - 0s 3ms/step - loss: 0.4119 - acc: 0.4753 - val_loss: 0.4085 - val_acc: 0.4752\n",
      "Epoch 72/130\n",
      "25/25 [==============================] - 0s 3ms/step - loss: 0.4028 - acc: 0.4801 - val_loss: 0.4083 - val_acc: 0.4750\n",
      "Epoch 73/130\n",
      "25/25 [==============================] - 0s 3ms/step - loss: 0.4026 - acc: 0.4758 - val_loss: 0.4081 - val_acc: 0.4745\n",
      "Epoch 74/130\n",
      "25/25 [==============================] - 0s 3ms/step - loss: 0.3990 - acc: 0.4819 - val_loss: 0.4078 - val_acc: 0.4748\n",
      "Epoch 75/130\n",
      "25/25 [==============================] - 0s 3ms/step - loss: 0.4139 - acc: 0.4780 - val_loss: 0.4076 - val_acc: 0.4748\n",
      "Epoch 76/130\n",
      "25/25 [==============================] - 0s 3ms/step - loss: 0.4092 - acc: 0.4786 - val_loss: 0.4075 - val_acc: 0.4744\n",
      "Epoch 77/130\n",
      "25/25 [==============================] - 0s 3ms/step - loss: 0.4112 - acc: 0.4761 - val_loss: 0.4074 - val_acc: 0.4740\n",
      "Epoch 78/130\n",
      "25/25 [==============================] - 0s 3ms/step - loss: 0.4060 - acc: 0.4758 - val_loss: 0.4073 - val_acc: 0.4733\n",
      "Epoch 79/130\n",
      "25/25 [==============================] - 0s 3ms/step - loss: 0.4026 - acc: 0.4803 - val_loss: 0.4071 - val_acc: 0.4736\n",
      "Epoch 80/130\n",
      "25/25 [==============================] - 0s 4ms/step - loss: 0.4078 - acc: 0.4766 - val_loss: 0.4069 - val_acc: 0.4734\n",
      "Epoch 81/130\n",
      "25/25 [==============================] - 0s 3ms/step - loss: 0.3989 - acc: 0.4736 - val_loss: 0.4067 - val_acc: 0.4736\n",
      "Epoch 82/130\n",
      "25/25 [==============================] - 0s 3ms/step - loss: 0.4096 - acc: 0.4770 - val_loss: 0.4066 - val_acc: 0.4736\n",
      "Epoch 83/130\n",
      "25/25 [==============================] - 0s 4ms/step - loss: 0.3976 - acc: 0.4752 - val_loss: 0.4065 - val_acc: 0.4739\n",
      "Epoch 84/130\n",
      "25/25 [==============================] - 0s 3ms/step - loss: 0.4040 - acc: 0.4756 - val_loss: 0.4063 - val_acc: 0.4737\n",
      "Epoch 85/130\n",
      "25/25 [==============================] - 0s 3ms/step - loss: 0.4090 - acc: 0.4794 - val_loss: 0.4061 - val_acc: 0.4737\n",
      "Epoch 86/130\n",
      "25/25 [==============================] - 0s 3ms/step - loss: 0.4070 - acc: 0.4750 - val_loss: 0.4060 - val_acc: 0.4738\n",
      "Epoch 87/130\n",
      "25/25 [==============================] - 0s 3ms/step - loss: 0.4022 - acc: 0.4767 - val_loss: 0.4058 - val_acc: 0.4744\n",
      "Epoch 88/130\n",
      "25/25 [==============================] - 0s 3ms/step - loss: 0.4072 - acc: 0.4744 - val_loss: 0.4057 - val_acc: 0.4743\n",
      "Epoch 89/130\n",
      "25/25 [==============================] - 0s 4ms/step - loss: 0.4099 - acc: 0.4772 - val_loss: 0.4057 - val_acc: 0.4744\n",
      "Epoch 90/130\n",
      "25/25 [==============================] - 0s 3ms/step - loss: 0.4038 - acc: 0.4776 - val_loss: 0.4058 - val_acc: 0.4739\n",
      "Epoch 91/130\n",
      "25/25 [==============================] - 0s 3ms/step - loss: 0.4042 - acc: 0.4777 - val_loss: 0.4059 - val_acc: 0.4734\n",
      "Epoch 92/130\n",
      "25/25 [==============================] - 0s 3ms/step - loss: 0.4083 - acc: 0.4787 - val_loss: 0.4059 - val_acc: 0.4734\n",
      "Epoch 93/130\n",
      "25/25 [==============================] - 0s 3ms/step - loss: 0.4104 - acc: 0.4770 - val_loss: 0.4059 - val_acc: 0.4731\n",
      "Epoch 94/130\n",
      "25/25 [==============================] - 0s 3ms/step - loss: 0.4103 - acc: 0.4769 - val_loss: 0.4058 - val_acc: 0.4730\n",
      "Epoch 95/130\n",
      "25/25 [==============================] - 0s 3ms/step - loss: 0.4131 - acc: 0.4781 - val_loss: 0.4058 - val_acc: 0.4729\n",
      "Epoch 96/130\n",
      "25/25 [==============================] - 0s 3ms/step - loss: 0.4054 - acc: 0.4750 - val_loss: 0.4057 - val_acc: 0.4732\n",
      "Epoch 97/130\n",
      "25/25 [==============================] - 0s 3ms/step - loss: 0.4075 - acc: 0.4742 - val_loss: 0.4057 - val_acc: 0.4725\n",
      "Epoch 98/130\n",
      "25/25 [==============================] - 0s 3ms/step - loss: 0.4214 - acc: 0.4758 - val_loss: 0.4056 - val_acc: 0.4725\n",
      "Epoch 99/130\n",
      "25/25 [==============================] - 0s 3ms/step - loss: 0.4048 - acc: 0.4784 - val_loss: 0.4055 - val_acc: 0.4731\n",
      "Epoch 100/130\n",
      "25/25 [==============================] - 0s 3ms/step - loss: 0.4028 - acc: 0.4778 - val_loss: 0.4055 - val_acc: 0.4729\n",
      "Epoch 101/130\n",
      "25/25 [==============================] - 0s 3ms/step - loss: 0.4097 - acc: 0.4756 - val_loss: 0.4054 - val_acc: 0.4732\n",
      "Epoch 102/130\n",
      "25/25 [==============================] - 0s 3ms/step - loss: 0.4068 - acc: 0.4745 - val_loss: 0.4054 - val_acc: 0.4734\n",
      "Epoch 103/130\n",
      "25/25 [==============================] - 0s 3ms/step - loss: 0.4039 - acc: 0.4751 - val_loss: 0.4053 - val_acc: 0.4737\n",
      "Epoch 104/130\n",
      "25/25 [==============================] - 0s 4ms/step - loss: 0.4048 - acc: 0.4784 - val_loss: 0.4052 - val_acc: 0.4739\n",
      "Epoch 105/130\n",
      "25/25 [==============================] - 0s 3ms/step - loss: 0.4085 - acc: 0.4762 - val_loss: 0.4050 - val_acc: 0.4743\n",
      "Epoch 106/130\n",
      "25/25 [==============================] - 0s 3ms/step - loss: 0.3907 - acc: 0.4774 - val_loss: 0.4050 - val_acc: 0.4745\n",
      "Epoch 107/130\n",
      "25/25 [==============================] - 0s 3ms/step - loss: 0.4123 - acc: 0.4798 - val_loss: 0.4051 - val_acc: 0.4743\n",
      "Epoch 108/130\n",
      "25/25 [==============================] - 0s 3ms/step - loss: 0.3975 - acc: 0.4764 - val_loss: 0.4050 - val_acc: 0.4743\n",
      "Epoch 109/130\n",
      "25/25 [==============================] - 0s 3ms/step - loss: 0.4043 - acc: 0.4788 - val_loss: 0.4049 - val_acc: 0.4742\n",
      "Epoch 110/130\n",
      "25/25 [==============================] - 0s 3ms/step - loss: 0.4110 - acc: 0.4777 - val_loss: 0.4048 - val_acc: 0.4743\n",
      "Epoch 111/130\n",
      "25/25 [==============================] - 0s 4ms/step - loss: 0.3984 - acc: 0.4797 - val_loss: 0.4048 - val_acc: 0.4741\n",
      "Epoch 112/130\n",
      "25/25 [==============================] - 0s 3ms/step - loss: 0.4043 - acc: 0.4787 - val_loss: 0.4047 - val_acc: 0.4742\n",
      "Epoch 113/130\n",
      "25/25 [==============================] - 0s 3ms/step - loss: 0.4017 - acc: 0.4750 - val_loss: 0.4047 - val_acc: 0.4743\n",
      "Epoch 114/130\n",
      "25/25 [==============================] - 0s 3ms/step - loss: 0.4032 - acc: 0.4765 - val_loss: 0.4048 - val_acc: 0.4740\n",
      "Epoch 115/130\n",
      "25/25 [==============================] - 0s 4ms/step - loss: 0.4015 - acc: 0.4779 - val_loss: 0.4048 - val_acc: 0.4741\n",
      "Epoch 116/130\n",
      "25/25 [==============================] - 0s 4ms/step - loss: 0.4023 - acc: 0.4771 - val_loss: 0.4048 - val_acc: 0.4745\n",
      "Epoch 117/130\n",
      "25/25 [==============================] - 0s 3ms/step - loss: 0.3975 - acc: 0.4757 - val_loss: 0.4047 - val_acc: 0.4746\n",
      "Epoch 118/130\n"
     ]
    },
    {
     "name": "stdout",
     "output_type": "stream",
     "text": [
      "25/25 [==============================] - 0s 3ms/step - loss: 0.4000 - acc: 0.4776 - val_loss: 0.4048 - val_acc: 0.4747\n",
      "Epoch 119/130\n",
      "25/25 [==============================] - 0s 3ms/step - loss: 0.3986 - acc: 0.4782 - val_loss: 0.4048 - val_acc: 0.4746\n",
      "Epoch 120/130\n",
      "25/25 [==============================] - 0s 3ms/step - loss: 0.4011 - acc: 0.4774 - val_loss: 0.4048 - val_acc: 0.4748\n",
      "Epoch 121/130\n",
      "25/25 [==============================] - 0s 4ms/step - loss: 0.4017 - acc: 0.4766 - val_loss: 0.4047 - val_acc: 0.4744\n",
      "Epoch 122/130\n",
      "25/25 [==============================] - 0s 3ms/step - loss: 0.4061 - acc: 0.4768 - val_loss: 0.4047 - val_acc: 0.4746\n",
      "Epoch 123/130\n",
      "25/25 [==============================] - 0s 3ms/step - loss: 0.4105 - acc: 0.4791 - val_loss: 0.4047 - val_acc: 0.4745\n",
      "Epoch 124/130\n",
      "25/25 [==============================] - 0s 3ms/step - loss: 0.4055 - acc: 0.4781 - val_loss: 0.4046 - val_acc: 0.4750\n",
      "Epoch 125/130\n",
      "25/25 [==============================] - 0s 3ms/step - loss: 0.4006 - acc: 0.4761 - val_loss: 0.4046 - val_acc: 0.4744\n",
      "Epoch 126/130\n",
      "25/25 [==============================] - 0s 3ms/step - loss: 0.4009 - acc: 0.4800 - val_loss: 0.4046 - val_acc: 0.4745\n",
      "Epoch 127/130\n",
      "25/25 [==============================] - 0s 3ms/step - loss: 0.3982 - acc: 0.4796 - val_loss: 0.4044 - val_acc: 0.4747\n",
      "Epoch 128/130\n",
      "25/25 [==============================] - 0s 3ms/step - loss: 0.4002 - acc: 0.4803 - val_loss: 0.4045 - val_acc: 0.4747\n",
      "Epoch 129/130\n",
      "25/25 [==============================] - 0s 3ms/step - loss: 0.4095 - acc: 0.4773 - val_loss: 0.4045 - val_acc: 0.4751\n",
      "Epoch 130/130\n",
      "25/25 [==============================] - 0s 3ms/step - loss: 0.4019 - acc: 0.4794 - val_loss: 0.4045 - val_acc: 0.4745\n"
     ]
    },
    {
     "data": {
      "text/plain": [
       "<matplotlib.legend.Legend at 0x7f5d486979d0>"
      ]
     },
     "execution_count": 37,
     "metadata": {},
     "output_type": "execute_result"
    },
    {
     "data": {
      "image/png": "[encoded data removed]",
      "text/plain": [
       "<Figure size 576x432 with 1 Axes>"
      ]
     },
     "metadata": {
      "needs_background": "light"
     },
     "output_type": "display_data"
    }
   ],
   "source": [
    "def nn_classifier(n_features, theta, lr=0.001):\n",
    "    inputs = Input(shape=(n_features,))\n",
    "    dense1 = Dense(32, activation='relu')(inputs)\n",
    "    dropout1 = Dropout(0.2)(dense1)\n",
    "    dense2 = Dense(32, activation='relu')(dropout1)\n",
    "    dropout2 = Dropout(0.2)(dense2)\n",
    "    dense3 = Dense(32, activation=\"relu\")(dropout2)\n",
    "    dropout3 = Dropout(0.2)(dense3)\n",
    "    outputs = Dense(1, activation='sigmoid')(dropout3)\n",
    "    model = Model(inputs=[inputs], outputs=[outputs])\n",
    "    model.compile(loss=parity_loss(theta), optimizer=tf.keras.optimizers.Adam(learning_rate=lr),metrics=tf.keras.metrics.BinaryAccuracy(\n",
    "    name='acc', dtype=None, threshold=0.5))\n",
    "    return model\n",
    "\n",
    "factor=0.5\n",
    "lr=0.00004\n",
    "clf = nn_classifier(n_features=X_train.shape[1],theta=(1,factor*2,factor*1),lr=lr)\n",
    "\n",
    "# train on train set\n",
    "Y = np.append(\n",
    "    np.reshape(y_train.values, (y_train.shape[0],1)), \n",
    "    Z_train.values, axis=1\n",
    "    )\n",
    "Y_val = np.append(\n",
    "    np.reshape(y_test.values, (y_test.shape[0],1)),\n",
    "    Z_test.values, axis=1\n",
    "    )\n",
    "\n",
    "\n",
    "clf.set_weights(weights)\n",
    "history = clf.fit(X_train.values, Y, epochs=130, verbose=1, batch_size=1024, shuffle=True, validation_data = (X_test.values, Y_val))\n",
    "hist = history.history\n",
    "plt.figure(figsize=(8,6))\n",
    "plt.plot(hist[\"loss\"], label=\"training\")\n",
    "plt.plot(hist[\"val_loss\"], label=\"validation\")\n",
    "plt.ylabel(\"Custom loss\")\n",
    "plt.xlabel(\"Epoch\")\n",
    "plt.title(\"Training and Validation loss\")\n",
    "plt.legend()"
   ]
  },
  {
   "cell_type": "code",
   "execution_count": 38,
   "id": "5ad60118",
   "metadata": {},
   "outputs": [
    {
     "name": "stdout",
     "output_type": "stream",
     "text": [
      "ROC AUC: 0.87\n",
      "Basline Accuracy: 75.7%\n",
      "Accuracy: 82.1%\n",
      "Precision: 72.8%\n",
      "Recall: 41.8%\n",
      "Classification reports per protected Attribute:\n",
      "\n",
      "           Protected class == race\n",
      "                      Subclass==0\n",
      "\n",
      "Accuracy: 85.3%\n",
      "Precision: 42.0%\n",
      "Recall: 43.6%\n",
      "Sampels: 619 - Positives: 81 - Correct positives: 34\n",
      "Positive rate: 13.1%\n",
      "                      Subclass==1\n",
      "\n",
      "Accuracy: 81.7%\n",
      "Precision: 76.0%\n",
      "Recall: 41.7%\n",
      "Sampels: 5569 - Positives: 782 - Correct positives: 594\n",
      "Positive rate: 14.0%\n",
      "\n",
      "           Protected class == sex\n",
      "                      Subclass==0\n",
      "\n",
      "Accuracy: 90.3%\n",
      "Precision: 50.2%\n",
      "Recall: 68.9%\n",
      "Sampels: 2112 - Positives: 283 - Correct positives: 142\n",
      "Positive rate: 13.4%\n",
      "                      Subclass==1\n",
      "\n",
      "Accuracy: 77.8%\n",
      "Precision: 83.8%\n",
      "Recall: 37.5%\n",
      "Sampels: 4076 - Positives: 580 - Correct positives: 486\n",
      "Positive rate: 14.2%\n"
     ]
    }
   ],
   "source": [
    "# predict on test set\n",
    "y_pred_best_p_rule = pd.Series(clf.predict(X_test.values).ravel(), index=y_test.index)\n",
    "score_report(y_pred_best_p_rule, y_test)"
   ]
  },
  {
   "cell_type": "code",
   "execution_count": 39,
   "id": "2e15653e",
   "metadata": {},
   "outputs": [
    {
     "name": "stdout",
     "output_type": "stream",
     "text": [
      "The classifier satisfies the following %p-rules:\n",
      "\tgiven attribute race; 93%-rule\n",
      "\tgiven attribute sex;  94%-rule\n"
     ]
    },
    {
     "data": {
      "image/png": "[encoded data removed]",
      "text/plain": [
       "<Figure size 720x288 with 2 Axes>"
      ]
     },
     "metadata": {
      "needs_background": "light"
     },
     "output_type": "display_data"
    }
   ],
   "source": [
    "fig = plot_distributions(y_pred_best_p_rule, Z_test)\n",
    "print(\"The classifier satisfies the following %p-rules:\")\n",
    "print(f\"\\tgiven attribute race; {p_rule(y_pred_best_p_rule, Z_test['race']):.0f}%-rule\")\n",
    "print(f\"\\tgiven attribute sex;  {p_rule(y_pred_best_p_rule, Z_test['sex']):.0f}%-rule\")"
   ]
  },
  {
   "cell_type": "code",
   "execution_count": 40,
   "id": "fd0c0135",
   "metadata": {},
   "outputs": [
    {
     "name": "stdout",
     "output_type": "stream",
     "text": [
      "The classifier sattisfies the following equalized odds epsilon:\n",
      "\tgiven attribute race; 4.2%\n",
      "\tgiven attribute sex;  31.4%\n"
     ]
    }
   ],
   "source": [
    "print(\"The classifier sattisfies the following equalized odds epsilon:\")\n",
    "print(f\"\\tgiven attribute race; {equalized_odds(y_pred_best_p_rule, y_test, Z_test['race']):.1f}%\")\n",
    "print(f\"\\tgiven attribute sex;  {equalized_odds(y_pred_best_p_rule, y_test, Z_test['sex']):.1f}%\")"
   ]
  },
  {
   "cell_type": "markdown",
   "id": "lonely-company",
   "metadata": {},
   "source": [
    "# Equal odds cost function"
   ]
  },
  {
   "cell_type": "code",
   "execution_count": 41,
   "id": "outer-season",
   "metadata": {},
   "outputs": [],
   "source": [
    "bce = tf.keras.losses.BinaryCrossentropy()\n",
    "\n",
    "def custom_EO_loss(theta):\n",
    "    \"\"\"\n",
    "    Using this wrapper to return the internal loss function allows for easy editing of \n",
    "    the otherwise high level Keras/Tensorflow model fitting objects, which expect to pass only (y_true, y_pred)\n",
    "    \n",
    "    Parameters\n",
    "    ----------\n",
    "    Theta - tuple\n",
    "        weights of the EO_loss factors in the combined loss function\n",
    "    \"\"\"\n",
    "    \n",
    "    def EO_loss_z(y_true, y_pred, z):\n",
    "        \"\"\"\n",
    "        Implementation of the Disparate Impact\n",
    "        DI is an maximazation metric bounded on [0,1], thus this is easily turned into \n",
    "        a minimization problem by taking '1 - DI'  \n",
    "        \"\"\"\n",
    "            \n",
    "        def TPR(true, predicted):\n",
    "            \"\"\"\n",
    "            Masking is not differentiable\n",
    "            We circumvent this by using a sigmoid and mulitplications only\n",
    "            \"\"\"\n",
    "            predicted = tf.math.sigmoid((predicted - 0.5) * 50)\n",
    "            tp = tf.reduce_sum(true*predicted)\n",
    "            p = tf.reduce_sum(true)\n",
    "            tpr =  tp/(p+tf.keras.backend.epsilon()) #TP/Positives\n",
    "            return tpr\n",
    "                \n",
    "        def FPR(true, predicted):\n",
    "            \"\"\"\n",
    "            Masking is not differentiable\n",
    "            We circumvent this by using a sigmoid and mulitplications only\n",
    "            \"\"\"\n",
    "            predicted = tf.math.sigmoid((predicted - 0.5) * 50)\n",
    "            fp = tf.reduce_sum(predicted*(1-true))\n",
    "            n = tf.reduce_sum(1 - true)\n",
    "            fpr = fp/(n+tf.keras.backend.epsilon()) #FP/Negatives \n",
    "            return fpr\n",
    "        \n",
    "        y_pred_z_1 = y_pred*z\n",
    "        y_pred_z_0 = y_pred*(1.0 - z)\n",
    "        \n",
    "        y_true_z_1  = y_true*z\n",
    "        y_true_z_0 = y_true*(1.0 - z) \n",
    "        \n",
    "        epsilon_TPR = tf.norm(TPR(y_true_z_1, y_pred_z_1) - TPR(y_true_z_0, y_pred_z_0))\n",
    "        epsilon_FPR = tf.norm(FPR(y_true_z_1, y_pred_z_1) - FPR(y_true_z_0, y_pred_z_0))\n",
    "        loss = tf.maximum(epsilon_TPR, epsilon_FPR)\n",
    "        return loss\n",
    "    \n",
    "    def final_loss(y, y_pred):\n",
    "        y_true, z_race, z_sex = y[:,0], y[:,1], y[:,2]\n",
    "        y_pred = tf.transpose(y_pred)\n",
    "        return bce(y_true, y_pred) + theta[0]*EO_loss_z(y_true, y_pred, z_race) + theta[1]*EO_loss_z(y_true, y_pred, z_sex)\n",
    "    return final_loss"
   ]
  },
  {
   "cell_type": "code",
   "execution_count": 42,
   "id": "accepting-million",
   "metadata": {},
   "outputs": [
    {
     "name": "stdout",
     "output_type": "stream",
     "text": [
      "Epoch 1/30\n",
      "WARNING:tensorflow:AutoGraph could not transform <function custom_EO_loss.<locals>.final_loss at 0x7f5d88485160> and will run it as-is.\n",
      "Please report this to the TensorFlow team. When filing the bug, set the verbosity to 10 (on Linux, `export AUTOGRAPH_VERBOSITY=10`) and attach the full output.\n",
      "Cause: module 'gast' has no attribute 'Index'\n",
      "To silence this warning, decorate the function with @tf.autograph.experimental.do_not_convert\n",
      "WARNING: AutoGraph could not transform <function custom_EO_loss.<locals>.final_loss at 0x7f5d88485160> and will run it as-is.\n",
      "Please report this to the TensorFlow team. When filing the bug, set the verbosity to 10 (on Linux, `export AUTOGRAPH_VERBOSITY=10`) and attach the full output.\n",
      "Cause: module 'gast' has no attribute 'Index'\n",
      "To silence this warning, decorate the function with @tf.autograph.experimental.do_not_convert\n",
      "25/25 [==============================] - 1s 10ms/step - loss: 2.2573 - acc: 0.5267 - val_loss: 2.4949 - val_acc: 0.5331\n",
      "Epoch 2/30\n",
      "25/25 [==============================] - 0s 4ms/step - loss: 2.7775 - acc: 0.5305 - val_loss: 2.4767 - val_acc: 0.5291\n",
      "Epoch 3/30\n",
      "25/25 [==============================] - 0s 4ms/step - loss: 2.4237 - acc: 0.5262 - val_loss: 2.3866 - val_acc: 0.5199\n",
      "Epoch 4/30\n",
      "25/25 [==============================] - 0s 4ms/step - loss: 2.0117 - acc: 0.5133 - val_loss: 2.3769 - val_acc: 0.5137\n",
      "Epoch 5/30\n",
      "25/25 [==============================] - 0s 4ms/step - loss: 2.2094 - acc: 0.5103 - val_loss: 2.2647 - val_acc: 0.5085\n",
      "Epoch 6/30\n",
      "25/25 [==============================] - 0s 4ms/step - loss: 2.0943 - acc: 0.5058 - val_loss: 2.1303 - val_acc: 0.5091\n",
      "Epoch 7/30\n",
      "25/25 [==============================] - 0s 4ms/step - loss: 2.2855 - acc: 0.5093 - val_loss: 2.1105 - val_acc: 0.5091\n",
      "Epoch 8/30\n",
      "25/25 [==============================] - 0s 4ms/step - loss: 2.4184 - acc: 0.5046 - val_loss: 2.1005 - val_acc: 0.5092\n",
      "Epoch 9/30\n",
      "25/25 [==============================] - 0s 4ms/step - loss: 2.2584 - acc: 0.5052 - val_loss: 2.1806 - val_acc: 0.5073\n",
      "Epoch 10/30\n",
      "25/25 [==============================] - 0s 4ms/step - loss: 2.3505 - acc: 0.5008 - val_loss: 2.0818 - val_acc: 0.4959\n",
      "Epoch 11/30\n",
      "25/25 [==============================] - 0s 4ms/step - loss: 2.2961 - acc: 0.4908 - val_loss: 1.9978 - val_acc: 0.4881\n",
      "Epoch 12/30\n",
      "25/25 [==============================] - 0s 4ms/step - loss: 1.5731 - acc: 0.4839 - val_loss: 1.9888 - val_acc: 0.4859\n",
      "Epoch 13/30\n",
      "25/25 [==============================] - 0s 4ms/step - loss: 2.3834 - acc: 0.4789 - val_loss: 1.9479 - val_acc: 0.4803\n",
      "Epoch 14/30\n",
      "25/25 [==============================] - 0s 4ms/step - loss: 2.2720 - acc: 0.4823 - val_loss: 1.8937 - val_acc: 0.4881\n",
      "Epoch 15/30\n",
      "25/25 [==============================] - 0s 4ms/step - loss: 2.5809 - acc: 0.4846 - val_loss: 1.9412 - val_acc: 0.4879\n",
      "Epoch 16/30\n",
      "25/25 [==============================] - 0s 4ms/step - loss: 1.8369 - acc: 0.4845 - val_loss: 1.8620 - val_acc: 0.4860\n",
      "Epoch 17/30\n",
      "25/25 [==============================] - 0s 4ms/step - loss: 2.3451 - acc: 0.4835 - val_loss: 2.0739 - val_acc: 0.4816\n",
      "Epoch 18/30\n",
      "25/25 [==============================] - 0s 4ms/step - loss: 1.7239 - acc: 0.4744 - val_loss: 2.2060 - val_acc: 0.4759\n",
      "Epoch 19/30\n",
      "25/25 [==============================] - 0s 4ms/step - loss: 1.9103 - acc: 0.4702 - val_loss: 2.0881 - val_acc: 0.4686\n",
      "Epoch 20/30\n",
      "25/25 [==============================] - 0s 4ms/step - loss: 2.0820 - acc: 0.4590 - val_loss: 1.7559 - val_acc: 0.4573\n",
      "Epoch 21/30\n",
      "25/25 [==============================] - 0s 4ms/step - loss: 1.9095 - acc: 0.4513 - val_loss: 1.5871 - val_acc: 0.4499\n",
      "Epoch 22/30\n",
      "25/25 [==============================] - 0s 4ms/step - loss: 2.1078 - acc: 0.4424 - val_loss: 1.4726 - val_acc: 0.4382\n",
      "Epoch 23/30\n",
      "25/25 [==============================] - 0s 4ms/step - loss: 1.9581 - acc: 0.4318 - val_loss: 1.4739 - val_acc: 0.4274\n",
      "Epoch 24/30\n",
      "25/25 [==============================] - 0s 4ms/step - loss: 1.4564 - acc: 0.4200 - val_loss: 1.3899 - val_acc: 0.4181\n",
      "Epoch 25/30\n",
      "25/25 [==============================] - 0s 4ms/step - loss: 1.4408 - acc: 0.4123 - val_loss: 1.2024 - val_acc: 0.4099\n",
      "Epoch 26/30\n",
      "25/25 [==============================] - 0s 4ms/step - loss: 1.0997 - acc: 0.4032 - val_loss: 0.8822 - val_acc: 0.4048\n",
      "Epoch 27/30\n",
      "25/25 [==============================] - 0s 4ms/step - loss: 0.7257 - acc: 0.3971 - val_loss: 0.4218 - val_acc: 0.3998\n",
      "Epoch 28/30\n",
      "25/25 [==============================] - 0s 4ms/step - loss: 0.5698 - acc: 0.3970 - val_loss: 0.4191 - val_acc: 0.3996\n",
      "Epoch 29/30\n",
      "25/25 [==============================] - 0s 4ms/step - loss: 0.5406 - acc: 0.3950 - val_loss: 0.4228 - val_acc: 0.3996\n",
      "Epoch 30/30\n",
      "25/25 [==============================] - 0s 4ms/step - loss: 0.4788 - acc: 0.3971 - val_loss: 0.4238 - val_acc: 0.3996\n"
     ]
    },
    {
     "data": {
      "text/plain": [
       "<matplotlib.legend.Legend at 0x7f5d48209c10>"
      ]
     },
     "execution_count": 42,
     "metadata": {},
     "output_type": "execute_result"
    },
    {
     "data": {
      "image/png": "[encoded data removed]",
      "text/plain": [
       "<Figure size 576x432 with 1 Axes>"
      ]
     },
     "metadata": {
      "needs_background": "light"
     },
     "output_type": "display_data"
    }
   ],
   "source": [
    "tf.random.set_seed(\n",
    "    94\n",
    ")\n",
    "\n",
    "def nn_classifier(n_features, theta, lr=0.001):\n",
    "    inputs = Input(shape=(n_features,))\n",
    "    dense1 = Dense(32, activation='relu')(inputs)\n",
    "    dropout1 = Dropout(0.2)(dense1)\n",
    "    dense2 = Dense(32, activation='relu')(dropout1)\n",
    "    dropout2 = Dropout(0.2)(dense2)\n",
    "    dense3 = Dense(32, activation=\"relu\")(dropout2)\n",
    "    dropout3 = Dropout(0.2)(dense3)\n",
    "    outputs = Dense(1, activation='sigmoid')(dropout3)\n",
    "    model = Model(inputs=[inputs], outputs=[outputs])\n",
    "    model.compile(loss=custom_EO_loss(theta), optimizer=tf.keras.optimizers.Adam(learning_rate=lr),metrics=tf.keras.metrics.BinaryAccuracy(\n",
    "    name='acc', dtype=None, threshold=0.5))\n",
    "    return model\n",
    "\n",
    "factor=10\n",
    "lr=0.0005\n",
    "clf = nn_classifier(n_features=X_train.shape[1],theta=(factor*1,factor*1),lr=lr)\n",
    "\n",
    "# train on train set\n",
    "Y = np.append(\n",
    "    np.reshape(y_train.values, (y_train.shape[0],1)),\n",
    "    Z_train.values, axis=1\n",
    "    )\n",
    "\n",
    "Y_val = np.append(\n",
    "    np.reshape(y_test.values, (y_test.shape[0],1)),\n",
    "    Z_test.values, axis=1\n",
    "    )\n",
    "\n",
    "clf.set_weights(weights)\n",
    "history = clf.fit(X_train.values, Y, epochs=30, verbose=1, batch_size=1024, shuffle=True, validation_data = (X_test.values, Y_val))\n",
    "hist = history.history\n",
    "plt.figure(figsize=(8,6))\n",
    "plt.plot(hist[\"loss\"], label = \"training\")\n",
    "plt.plot(hist[\"val_loss\"], label = \"validation\")\n",
    "plt.ylabel(\"Custom loss\")\n",
    "plt.xlabel(\"Epoch\")\n",
    "plt.title(\"Training and Validation loss\")\n",
    "plt.legend()"
   ]
  },
  {
   "cell_type": "code",
   "execution_count": 43,
   "id": "first-asset",
   "metadata": {},
   "outputs": [
    {
     "name": "stdout",
     "output_type": "stream",
     "text": [
      "ROC AUC: 0.89\n",
      "Basline Accuracy: 75.7%\n",
      "Accuracy: 75.7%\n",
      "Precision: 0.0%\n",
      "Recall: 0.0%\n",
      "Classification reports per protected Attribute:\n",
      "\n",
      "           Protected class == race\n",
      "                      Subclass==0\n",
      "\n",
      "Accuracy: 87.4%\n",
      "Precision: 0.0%\n",
      "Recall: 0.0%\n",
      "Sampels: 619 - Positives: 0 - Correct positives: 0\n",
      "Positive rate: 0.0%\n",
      "                      Subclass==1\n",
      "\n",
      "Accuracy: 74.4%\n",
      "Precision: 0.0%\n",
      "Recall: 0.0%\n",
      "Sampels: 5569 - Positives: 0 - Correct positives: 0\n",
      "Positive rate: 0.0%\n",
      "\n",
      "           Protected class == sex\n",
      "                      Subclass==0\n",
      "\n",
      "Accuracy: 90.2%\n",
      "Precision: 0.0%\n",
      "Recall: 0.0%\n",
      "Sampels: 2112 - Positives: 0 - Correct positives: 0\n",
      "Positive rate: 0.0%\n",
      "                      Subclass==1\n",
      "\n",
      "Accuracy: 68.2%\n",
      "Precision: 0.0%\n",
      "Recall: 0.0%\n",
      "Sampels: 4076 - Positives: 0 - Correct positives: 0\n",
      "Positive rate: 0.0%\n"
     ]
    },
    {
     "name": "stderr",
     "output_type": "stream",
     "text": [
      "/home/alex/anaconda3/envs/FairAlgorithms/lib/python3.9/site-packages/sklearn/metrics/_classification.py:1245: UndefinedMetricWarning: Precision is ill-defined and being set to 0.0 due to no predicted samples. Use `zero_division` parameter to control this behavior.\n",
      "  _warn_prf(average, modifier, msg_start, len(result))\n",
      "/home/alex/anaconda3/envs/FairAlgorithms/lib/python3.9/site-packages/sklearn/metrics/_classification.py:1245: UndefinedMetricWarning: Precision is ill-defined and being set to 0.0 due to no predicted samples. Use `zero_division` parameter to control this behavior.\n",
      "  _warn_prf(average, modifier, msg_start, len(result))\n",
      "/home/alex/anaconda3/envs/FairAlgorithms/lib/python3.9/site-packages/sklearn/metrics/_classification.py:1245: UndefinedMetricWarning: Precision is ill-defined and being set to 0.0 due to no predicted samples. Use `zero_division` parameter to control this behavior.\n",
      "  _warn_prf(average, modifier, msg_start, len(result))\n",
      "/home/alex/anaconda3/envs/FairAlgorithms/lib/python3.9/site-packages/sklearn/metrics/_classification.py:1245: UndefinedMetricWarning: Precision is ill-defined and being set to 0.0 due to no predicted samples. Use `zero_division` parameter to control this behavior.\n",
      "  _warn_prf(average, modifier, msg_start, len(result))\n",
      "/home/alex/anaconda3/envs/FairAlgorithms/lib/python3.9/site-packages/sklearn/metrics/_classification.py:1245: UndefinedMetricWarning: Precision is ill-defined and being set to 0.0 due to no predicted samples. Use `zero_division` parameter to control this behavior.\n",
      "  _warn_prf(average, modifier, msg_start, len(result))\n"
     ]
    }
   ],
   "source": [
    "# predict on test set\n",
    "y_pred = pd.Series(clf.predict(X_test.values).ravel(), index=y_test.index)\n",
    "score_report(y_pred, y_test)"
   ]
  },
  {
   "cell_type": "code",
   "execution_count": 44,
   "id": "pharmaceutical-working",
   "metadata": {},
   "outputs": [
    {
     "name": "stdout",
     "output_type": "stream",
     "text": [
      "The classifier satisfies the following %p-rules:\n",
      "\tgiven attribute race; nan%-rule\n",
      "\tgiven attribute sex;  nan%-rule\n"
     ]
    },
    {
     "name": "stderr",
     "output_type": "stream",
     "text": [
      "<ipython-input-13-d92a32b06d46>:4: RuntimeWarning: invalid value encountered in double_scalars\n",
      "  odds = y_z_1.mean() / y_z_0.mean()\n",
      "<ipython-input-13-d92a32b06d46>:4: RuntimeWarning: invalid value encountered in double_scalars\n",
      "  odds = y_z_1.mean() / y_z_0.mean()\n"
     ]
    },
    {
     "data": {
      "image/png": "[encoded data removed]",
      "text/plain": [
       "<Figure size 720x288 with 2 Axes>"
      ]
     },
     "metadata": {
      "needs_background": "light"
     },
     "output_type": "display_data"
    }
   ],
   "source": [
    "fig = plot_distributions(y_pred, Z_test)\n",
    "print(\"The classifier satisfies the following %p-rules:\")\n",
    "print(f\"\\tgiven attribute race; {p_rule(y_pred, Z_test['race']):.0f}%-rule\")\n",
    "print(f\"\\tgiven attribute sex;  {p_rule(y_pred, Z_test['sex']):.0f}%-rule\")"
   ]
  },
  {
   "cell_type": "code",
   "execution_count": 45,
   "id": "functioning-browse",
   "metadata": {},
   "outputs": [
    {
     "name": "stdout",
     "output_type": "stream",
     "text": [
      "The classifier sattisfies the following equalized odds epsilon:\n",
      "\tgiven attribute race; 0.0%\n",
      "\tgiven attribute sex;  0.0%\n"
     ]
    }
   ],
   "source": [
    "print(\"The classifier sattisfies the following equalized odds epsilon:\")\n",
    "print(f\"\\tgiven attribute race; {equalized_odds(y_pred, y_test, Z_test['race']):.1f}%\")\n",
    "print(f\"\\tgiven attribute sex;  {equalized_odds(y_pred, y_test, Z_test['sex']):.1f}%\")"
   ]
  },
  {
   "cell_type": "markdown",
   "id": "ecc19a89",
   "metadata": {},
   "source": [
    "# Post Processing EO - Using the ROC curve and finding intersection points\n",
    "As seen above, the EO loss network tends to resolve to trivial solutions very easily. Thus we try a different post-processing approach.\n",
    "Using our best performing P-rule classifier, we can now optimize the EO fairness as well by finding an intersection in the ROC-curve, as an intersection in the ROC-curve per definition has equal FPR and equal TPR for both classes. This does mean that different classification thresholds are applied for both classes of a protected attribute! "
   ]
  },
  {
   "cell_type": "code",
   "execution_count": 46,
   "id": "7d027d4a",
   "metadata": {},
   "outputs": [
    {
     "data": {
      "image/png": "[encoded data removed]",
      "text/plain": [
       "<Figure size 1440x576 with 2 Axes>"
      ]
     },
     "metadata": {
      "needs_background": "light"
     },
     "output_type": "display_data"
    }
   ],
   "source": [
    "fprs, tprs, thresholds, roc_aucs = [], [], [], []\n",
    "protected_attributes = [\"race\", \"sex\"]\n",
    "subclasses = [0,1]\n",
    "for i, z_att in enumerate(protected_attributes):\n",
    "    for subclass in subclasses:\n",
    "        mask = Z_test[z_att]==subclass\n",
    "        y_t_s, y_p_s = y_test[mask], y_pred_best_p_rule[mask] \n",
    "        fpr, tpr, threshold = roc_curve(y_t_s, y_p_s)\n",
    "        roc_auc = roc_auc_score(y_t_s, y_p_s)\n",
    "        fprs.append(fpr)\n",
    "        tprs.append(tpr)\n",
    "        thresholds.append(threshold)\n",
    "        roc_aucs.append(roc_auc)\n",
    "z_att = [\"race\",\"race\",\"sex\",\"sex\"]\n",
    "subclass = [0,1,0,1]\n",
    "eo_thresholds_race = []\n",
    "eo_thresholds_sex = []\n",
    "fig, ax = plt.subplots(1, len(subclasses), figsize=(10*len(subclasses),8))\n",
    "for i in range(4):\n",
    "    fpr, tpr, threshold, roc_auc = fprs[i], tprs[i], thresholds[i], roc_aucs[i]\n",
    "    if i<2:\n",
    "        plt.sca(ax[0])\n",
    "    else:\n",
    "        plt.sca(ax[1])\n",
    "    if i==1 or i==3:\n",
    "        if i==1:\n",
    "            j = 0\n",
    "            val = 0.21\n",
    "        else:\n",
    "            j = 2\n",
    "            val = 0.58\n",
    "        index_1 = np.argmin(np.abs(fpr-val))\n",
    "        thres_1 = threshold[index_1]\n",
    "        \n",
    "\n",
    "        fpr_0 = fprs[j]\n",
    "        threshold_0 = thresholds[j]\n",
    "        index_0 = np.argmin(np.abs(fpr_0-val))\n",
    "        thres_0 = threshold_0[index_0]\n",
    "        if i==1:\n",
    "            eo_threshold_race = [thres_0, thres_1]\n",
    "        elif i==3:\n",
    "            eo_threshold_sex = [thres_0, thres_1]\n",
    "        plt.axvline(val ,c=\"r\",label=f\"Thresholds - class 0:{thres_0:.2f}, class 1:{thres_1:.2f}\")\n",
    "    # Plot ROC curve\n",
    "    plt.plot(fpr, tpr, label=f'{z_att[i]}=={subclass[i]}: ROC curve (area = {roc_auc:.3f})')\n",
    "    plt.plot([0, 1], [0, 1], 'k--')  # random predictions curve\n",
    "    plt.xlim([0.0, 1.0])\n",
    "    plt.ylim([0.0, 1.0])\n",
    "    plt.xlabel('False Positive Rate or (1 - Specifity)')\n",
    "    plt.ylabel('True Positive Rate or (Sensitivity)')\n",
    "    plt.title(f'{z_att[i]} Receiver Operating Characteristic')\n",
    "    plt.legend(loc=\"lower right\")"
   ]
  },
  {
   "cell_type": "code",
   "execution_count": 47,
   "id": "ac9b6327",
   "metadata": {},
   "outputs": [],
   "source": [
    "masks_race = [Z_test[\"race\"]==1]\n",
    "y_pred_eo_race = y_pred_best_p_rule.copy()\n",
    "for mask in masks_race:\n",
    "    subselection_1 = y_pred_eo_race[mask]\n",
    "    subselection_0 = y_pred_eo_race[~mask]\n",
    "    pred_0, pred_1 = subselection_0>eo_threshold_race[0], subselection_1>eo_threshold_race[1]\n",
    "    y_pred_eo_race[~mask] = pred_0\n",
    "    y_pred_eo_race[mask] = pred_1\n",
    "           \n",
    "masks_sex = [Z_test[\"sex\"]==1]\n",
    "y_pred_eo_sex= y_pred_best_p_rule.copy()\n",
    "for mask in masks_sex:\n",
    "    subselection_1 = y_pred_eo_sex[mask]\n",
    "    subselection_0 = y_pred_eo_sex[~mask]\n",
    "    pred_0, pred_1 = (subselection_0>eo_threshold_sex[0]), subselection_1>eo_threshold_sex[1]\n",
    "    y_pred_eo_sex[~mask] = pred_0\n",
    "    y_pred_eo_sex[mask] = pred_1\n"
   ]
  },
  {
   "cell_type": "markdown",
   "id": "5a495443",
   "metadata": {},
   "source": [
    "## Results when optimizing EO fairness for Race"
   ]
  },
  {
   "cell_type": "code",
   "execution_count": 48,
   "id": "1654435b",
   "metadata": {},
   "outputs": [
    {
     "name": "stdout",
     "output_type": "stream",
     "text": [
      "ROC AUC: 0.78\n",
      "Basline Accuracy: 75.7%\n",
      "Accuracy: 78.5%\n",
      "Precision: 54.0%\n",
      "Recall: 76.7%\n",
      "Classification reports per protected Attribute:\n",
      "\n",
      "           Protected class == race\n",
      "                      Subclass==0\n",
      "\n",
      "Accuracy: 78.7%\n",
      "Precision: 34.3%\n",
      "Recall: 75.6%\n",
      "Sampels: 619 - Positives: 172 - Correct positives: 59\n",
      "Positive rate: 27.8%\n",
      "                      Subclass==1\n",
      "\n",
      "Accuracy: 78.5%\n",
      "Precision: 55.7%\n",
      "Recall: 76.7%\n",
      "Sampels: 5569 - Positives: 1960 - Correct positives: 1092\n",
      "Positive rate: 35.2%\n",
      "\n",
      "           Protected class == sex\n",
      "                      Subclass==0\n",
      "\n",
      "Accuracy: 78.6%\n",
      "Precision: 29.5%\n",
      "Recall: 85.4%\n",
      "Sampels: 2112 - Positives: 597 - Correct positives: 176\n",
      "Positive rate: 28.3%\n",
      "                      Subclass==1\n",
      "\n",
      "Accuracy: 78.4%\n",
      "Precision: 63.5%\n",
      "Recall: 75.3%\n",
      "Sampels: 4076 - Positives: 1535 - Correct positives: 975\n",
      "Positive rate: 37.7%\n"
     ]
    }
   ],
   "source": [
    "# predict on test set\n",
    "\n",
    "score_report(y_pred_eo_race, y_test)"
   ]
  },
  {
   "cell_type": "code",
   "execution_count": 49,
   "id": "2accc35d",
   "metadata": {},
   "outputs": [
    {
     "name": "stdout",
     "output_type": "stream",
     "text": [
      "The classifier satisfies the following %p-rules:\n",
      "\tgiven attribute race; 79%-rule\n",
      "\tgiven attribute sex;  75%-rule\n"
     ]
    }
   ],
   "source": [
    "#fig = plot_distributions(y_pred_eo_race, Z_test)\n",
    "print(\"The classifier satisfies the following %p-rules:\")\n",
    "print(f\"\\tgiven attribute race; {p_rule(y_pred_eo_race, Z_test['race']):.0f}%-rule\")\n",
    "print(f\"\\tgiven attribute sex;  {p_rule(y_pred_eo_race, Z_test['sex']):.0f}%-rule\")"
   ]
  },
  {
   "cell_type": "code",
   "execution_count": 50,
   "id": "a19bbed4",
   "metadata": {},
   "outputs": [
    {
     "name": "stdout",
     "output_type": "stream",
     "text": [
      "The classifier sattisfies the following equalized odds epsilon:\n",
      "\tgiven attribute race; 1.1%\n",
      "\tgiven attribute sex;  10.1%\n"
     ]
    }
   ],
   "source": [
    "print(\"The classifier sattisfies the following equalized odds epsilon:\")\n",
    "print(f\"\\tgiven attribute race; {equalized_odds(y_pred_eo_race, y_test, Z_test['race']):.1f}%\")\n",
    "print(f\"\\tgiven attribute sex;  {equalized_odds(y_pred_eo_race, y_test, Z_test['sex']):.1f}%\")"
   ]
  },
  {
   "cell_type": "markdown",
   "id": "07dfcf5f",
   "metadata": {},
   "source": [
    "## Results when optimizing EO fairness for sex"
   ]
  },
  {
   "cell_type": "code",
   "execution_count": 51,
   "id": "04e6b453",
   "metadata": {},
   "outputs": [
    {
     "name": "stdout",
     "output_type": "stream",
     "text": [
      "ROC AUC: 0.69\n",
      "Basline Accuracy: 75.7%\n",
      "Accuracy: 54.2%\n",
      "Precision: 34.5%\n",
      "Recall: 98.4%\n",
      "Classification reports per protected Attribute:\n",
      "\n",
      "           Protected class == race\n",
      "                      Subclass==0\n",
      "\n",
      "Accuracy: 44.9%\n",
      "Precision: 18.3%\n",
      "Recall: 97.4%\n",
      "Sampels: 619 - Positives: 415 - Correct positives: 76\n",
      "Positive rate: 67.0%\n",
      "                      Subclass==1\n",
      "\n",
      "Accuracy: 55.3%\n",
      "Precision: 36.2%\n",
      "Recall: 98.5%\n",
      "Sampels: 5569 - Positives: 3870 - Correct positives: 1401\n",
      "Positive rate: 69.5%\n",
      "\n",
      "           Protected class == sex\n",
      "                      Subclass==0\n",
      "\n",
      "Accuracy: 43.2%\n",
      "Precision: 14.5%\n",
      "Recall: 98.5%\n",
      "Sampels: 2112 - Positives: 1399 - Correct positives: 203\n",
      "Positive rate: 66.2%\n",
      "                      Subclass==1\n",
      "\n",
      "Accuracy: 59.9%\n",
      "Precision: 44.1%\n",
      "Recall: 98.4%\n",
      "Sampels: 4076 - Positives: 2886 - Correct positives: 1274\n",
      "Positive rate: 70.8%\n"
     ]
    }
   ],
   "source": [
    "# predict on test set\n",
    "score_report(y_pred_eo_sex, y_test)"
   ]
  },
  {
   "cell_type": "code",
   "execution_count": 52,
   "id": "47444dbb",
   "metadata": {},
   "outputs": [
    {
     "name": "stdout",
     "output_type": "stream",
     "text": [
      "The classifier satisfies the following %p-rules:\n",
      "\tgiven attribute race; 96%-rule\n",
      "\tgiven attribute sex;  94%-rule\n"
     ]
    }
   ],
   "source": [
    "#fig = plot_distributions(y_pred, Z_test)\n",
    "print(\"The classifier satisfies the following %p-rules:\")\n",
    "print(f\"\\tgiven attribute race; {p_rule(y_pred_eo_sex, Z_test['race']):.0f}%-rule\")\n",
    "print(f\"\\tgiven attribute sex;  {p_rule(y_pred_eo_sex, Z_test['sex']):.0f}%-rule\")"
   ]
  },
  {
   "cell_type": "code",
   "execution_count": 53,
   "id": "b802e6a7",
   "metadata": {},
   "outputs": [
    {
     "name": "stdout",
     "output_type": "stream",
     "text": [
      "The classifier sattisfies the following equalized odds epsilon:\n",
      "\tgiven attribute race; 3.1%\n",
      "\tgiven attribute sex;  4.8%\n"
     ]
    }
   ],
   "source": [
    "print(\"The classifier sattisfies the following equalized odds epsilon:\")\n",
    "print(f\"\\tgiven attribute race; {equalized_odds(y_pred_eo_sex, y_test, Z_test['race']):.1f}%\")\n",
    "print(f\"\\tgiven attribute sex;  {equalized_odds(y_pred_eo_sex, y_test, Z_test['sex']):.1f}%\")"
   ]
  },
  {
   "cell_type": "code",
   "execution_count": null,
   "id": "3f772648",
   "metadata": {},
   "outputs": [],
   "source": []
  },
  {
   "cell_type": "code",
   "execution_count": null,
   "id": "34538efa",
   "metadata": {},
   "outputs": [],
   "source": []
  }
 ],
 "metadata": {
  "kernelspec": {
   "display_name": "Python 3",
   "language": "python",
   "name": "python3"
  },
  "language_info": {
   "codemirror_mode": {
    "name": "ipython",
    "version": 3
   },
   "file_extension": ".py",
   "mimetype": "text/x-python",
   "name": "python",
   "nbconvert_exporter": "python",
   "pygments_lexer": "ipython3",
   "version": "3.9.4"
  }
 },
 "nbformat": 4,
 "nbformat_minor": 5
}
